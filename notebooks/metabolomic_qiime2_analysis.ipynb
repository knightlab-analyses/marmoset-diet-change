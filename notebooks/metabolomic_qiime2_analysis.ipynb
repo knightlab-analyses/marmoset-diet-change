{
 "cells": [
  {
   "cell_type": "code",
   "execution_count": null,
   "id": "b9987bbf",
   "metadata": {},
   "outputs": [],
   "source": [
    "#preprocessed through MZMine3 and blank subtraction has already been done"
   ]
  },
  {
   "cell_type": "code",
   "execution_count": 5,
   "id": "ecb7543f",
   "metadata": {},
   "outputs": [
    {
     "name": "stdout",
     "output_type": "stream",
     "text": [
      "\u001b[32mSaved FeatureTable[Frequency] to: ../data/Metabolomics/metab_feature_table.qza\u001b[0m\r\n",
      "\u001b[0m"
     ]
    }
   ],
   "source": [
    "!qiime feature-table filter-samples \\\n",
    "    --i-table ../data/Metabolomics/metab_all_feature_table.qza \\\n",
    "    --m-metadata-file ../data/Metabolomics/MSV000090940_gnps_metadata_fixed.tsv \\\n",
    "    --p-where \"[SampleType] IN ('animal', 'food')\" \\\n",
    "    --o-filtered-table ../data/Metabolomics/metab_feature_table.qza\n",
    "#remove blanks, already accounted for"
   ]
  },
  {
   "cell_type": "code",
   "execution_count": 3,
   "id": "4df5cf5a",
   "metadata": {},
   "outputs": [
    {
     "name": "stdout",
     "output_type": "stream",
     "text": [
      "\u001b[32mExtracted ../data/Metabolomics/metab_all_feature_table.qza to directory ../data/Metabolomics/metab_all_feature_table/3507d0a3-24e1-41e4-885f-53828f079eaa\u001b[0m\r\n"
     ]
    }
   ],
   "source": [
    "!qiime tools export \\\n",
    "    --input-path ../data/Metabolomics/metab_all_feature_table.qza \\\n",
    "    --output-path ../data/Metabolomics/metab_all_feature_table\n",
    "#remove blanks, already accounted for"
   ]
  },
  {
   "cell_type": "code",
   "execution_count": 4,
   "id": "94242301",
   "metadata": {},
   "outputs": [],
   "source": [
    "!biom convert -i ../data/Metabolomics/metab_all_feature_table/feature-table.biom -o ../data/Metabolomics/metab-all-feature-table.tsv --to-tsv"
   ]
  },
  {
   "cell_type": "code",
   "execution_count": 6,
   "id": "6055366f",
   "metadata": {},
   "outputs": [
    {
     "name": "stdout",
     "output_type": "stream",
     "text": [
      "\u001b[32mSaved FeatureTable[Frequency] to: ../data/Metabolomics/animal/animal_feature_table.qza\u001b[0m\n",
      "\u001b[0m\u001b[32mSaved FeatureTable[Frequency] to: ../data/Metabolomics/food/food_feature_table.qza\u001b[0m\n",
      "\u001b[0m"
     ]
    }
   ],
   "source": [
    "!qiime feature-table filter-samples \\\n",
    "    --i-table ../data/Metabolomics/metab_feature_table.qza \\\n",
    "    --m-metadata-file ../data/Metabolomics/MSV000090940_gnps_metadata_fixed.tsv \\\n",
    "    --p-where \"[SampleType] IN ('animal')\" \\\n",
    "    --o-filtered-table ../data/Metabolomics/animal/animal_feature_table.qza\n",
    "\n",
    "!qiime feature-table filter-samples \\\n",
    "    --i-table ../data/Metabolomics/metab_feature_table.qza \\\n",
    "    --m-metadata-file ../data/Metabolomics/MSV000090940_gnps_metadata_fixed.tsv \\\n",
    "    --p-where \"[SampleType] IN ('food')\" \\\n",
    "    --o-filtered-table ../data/Metabolomics/food/food_feature_table.qza"
   ]
  },
  {
   "cell_type": "code",
   "execution_count": 165,
   "id": "caf99fa2",
   "metadata": {},
   "outputs": [
    {
     "name": "stdout",
     "output_type": "stream",
     "text": [
      "/opt/anaconda3/envs/qiime2-2023.2/lib/python3.8/site-packages/qiime2/core/cache.py:435: UserWarning: Your temporary cache was found to be in an inconsistent state. It has been recreated.\n",
      "  warnings.warn(\n",
      "\u001b[32mSaved Visualization to: ../data/Metabolomics/food/food_feature_table.qzv\u001b[0m\n",
      "\u001b[0m\u001b[32mSaved Visualization to: ../data/Metabolomics/animal/animal_feature_table.qzv\u001b[0m\n",
      "\u001b[0m"
     ]
    }
   ],
   "source": [
    "!qiime feature-table summarize \\\n",
    "    --i-table ../data/Metabolomics/food/food_feature_table.qza \\\n",
    "    --m-sample-metadata-file ../data/Metabolomics/MSV000090940_gnps_metadata_fixed.tsv \\\n",
    "    --o-visualization ../data/Metabolomics/food/food_feature_table.qzv\n",
    "\n",
    "!qiime feature-table summarize \\\n",
    "    --i-table ../data/Metabolomics/animal/animal_feature_table.qza \\\n",
    "    --m-sample-metadata-file ../data/Metabolomics/MSV000090940_gnps_metadata_fixed.tsv \\\n",
    "    --o-visualization ../data/Metabolomics/animal/animal_feature_table.qzv"
   ]
  },
  {
   "cell_type": "code",
   "execution_count": 11,
   "id": "6870f45b",
   "metadata": {},
   "outputs": [
    {
     "name": "stdout",
     "output_type": "stream",
     "text": [
      "\u001b[32mSaved DistanceMatrix to: ../data/Metabolomics/animal/animal_braycurtis_dm.qza\u001b[0m\n",
      "\u001b[0m\u001b[32mSaved DistanceMatrix to: ../data/Metabolomics/animal/animal_aitchison_dm.qza\u001b[0m\n",
      "\u001b[0m\u001b[32mSaved DistanceMatrix to: ../data/Metabolomics/animal/animal_canberra_dm.qza\u001b[0m\n",
      "\u001b[0m\u001b[32mSaved PCoAResults to: ../data/Metabolomics/animal/animal_braycurtis_pcoa.qza\u001b[0m\n",
      "\u001b[0m\u001b[32mSaved PCoAResults to: ../data/Metabolomics/animal/animal_aitchison_pcoa.qza\u001b[0m\n",
      "\u001b[0m\u001b[32mSaved PCoAResults to: ../data/Metabolomics/animal/animal_canberra_pcoa.qza\u001b[0m\n",
      "\u001b[0m"
     ]
    }
   ],
   "source": [
    "!qiime diversity beta \\\n",
    "    --i-table ../data/Metabolomics/animal/animal_feature_table.qza   \\\n",
    "    --p-metric 'braycurtis' \\\n",
    "    --o-distance-matrix ../data/Metabolomics/animal/animal_braycurtis_dm.qza\n",
    "\n",
    "!qiime diversity beta \\\n",
    "    --i-table ../data/Metabolomics/animal/animal_feature_table.qza   \\\n",
    "    --p-metric 'aitchison' \\\n",
    "    --o-distance-matrix ../data/Metabolomics/animal/animal_aitchison_dm.qza\n",
    "\n",
    "!qiime diversity beta \\\n",
    "    --i-table ../data/Metabolomics/animal/animal_feature_table.qza   \\\n",
    "    --p-metric 'canberra' \\\n",
    "    --o-distance-matrix ../data/Metabolomics/animal/animal_canberra_dm.qza\n",
    "\n",
    "!qiime diversity pcoa \\\n",
    "    --i-distance-matrix ../data/Metabolomics/animal/animal_braycurtis_dm.qza \\\n",
    "    --o-pcoa ../data/Metabolomics/animal/animal_braycurtis_pcoa.qza\n",
    "\n",
    "!qiime diversity pcoa \\\n",
    "    --i-distance-matrix ../data/Metabolomics/animal/animal_aitchison_dm.qza \\\n",
    "    --o-pcoa ../data/Metabolomics/animal/animal_aitchison_pcoa.qza\n",
    "\n",
    "!qiime diversity pcoa \\\n",
    "    --i-distance-matrix ../data/Metabolomics/animal/animal_canberra_dm.qza \\\n",
    "    --o-pcoa ../data/Metabolomics/animal/animal_canberra_pcoa.qza"
   ]
  },
  {
   "cell_type": "code",
   "execution_count": 156,
   "id": "0f141277",
   "metadata": {},
   "outputs": [
    {
     "name": "stdout",
     "output_type": "stream",
     "text": [
      "\u001b[32mSaved Visualization to: ../data/Metabolomics/animal/animal_braycurtis_emp.qzv\u001b[0m\n",
      "\u001b[0m\u001b[32mSaved Visualization to: ../data/Metabolomics/animal/animal_aitchison_emp.qzv\u001b[0m\n",
      "\u001b[0m\u001b[32mSaved Visualization to: ../data/Metabolomics/animal/animal_canberra_emp.qzv\u001b[0m\n",
      "\u001b[0m"
     ]
    }
   ],
   "source": [
    "!qiime emperor plot \\\n",
    "    --i-pcoa ../data/Metabolomics/animal/animal_braycurtis_pcoa.qza \\\n",
    "    --m-metadata-file ../data/Metabolomics/MSV000090940_gnps_metadata_fixed.tsv \\\n",
    "    --p-custom-axes timepoint_number \\\n",
    "    --o-visualization ../data/Metabolomics/animal/animal_braycurtis_emp.qzv\n",
    "\n",
    "!qiime emperor plot \\\n",
    "    --i-pcoa ../data/Metabolomics/animal/animal_aitchison_pcoa.qza \\\n",
    "    --m-metadata-file ../data/Metabolomics/MSV000090940_gnps_metadata_fixed.tsv \\\n",
    "    --p-custom-axes timepoint_number \\\n",
    "    --o-visualization ../data/Metabolomics/animal/animal_aitchison_emp.qzv\n",
    "\n",
    "!qiime emperor plot \\\n",
    "    --i-pcoa ../data/Metabolomics/animal/animal_canberra_pcoa.qza \\\n",
    "    --m-metadata-file ../data/Metabolomics/MSV000090940_gnps_metadata_fixed.tsv \\\n",
    "    --p-custom-axes timepoint_number \\\n",
    "    --o-visualization ../data/Metabolomics/animal/animal_canberra_emp.qzv"
   ]
  },
  {
   "cell_type": "markdown",
   "id": "cec11dfd",
   "metadata": {},
   "source": [
    "### Food Samples (no timepoint info)"
   ]
  },
  {
   "cell_type": "code",
   "execution_count": 166,
   "id": "10cfd430",
   "metadata": {},
   "outputs": [
    {
     "name": "stdout",
     "output_type": "stream",
     "text": [
      "\u001b[32mSaved DistanceMatrix to: ../data/Metabolomics/food/food_braycurtis_dm.qza\u001b[0m\n",
      "\u001b[0m\u001b[32mSaved DistanceMatrix to: ../data/Metabolomics/food/food_aitchison_dm.qza\u001b[0m\n",
      "\u001b[0m\u001b[32mSaved DistanceMatrix to: ../data/Metabolomics/food/food_canberra_dm.qza\u001b[0m\n",
      "\u001b[0m\u001b[32mSaved PCoAResults to: ../data/Metabolomics/food/food_braycurtis_pcoa.qza\u001b[0m\n",
      "\u001b[0m\u001b[32mSaved PCoAResults to: ../data/Metabolomics/food/food_aitchison_pcoa.qza\u001b[0m\n",
      "\u001b[0m\u001b[32mSaved PCoAResults to: ../data/Metabolomics/food/food_canberra_pcoa.qza\u001b[0m\n",
      "\u001b[0m"
     ]
    }
   ],
   "source": [
    "!qiime diversity beta \\\n",
    "    --i-table ../data/Metabolomics/food/food_feature_table.qza   \\\n",
    "    --p-metric 'braycurtis' \\\n",
    "    --o-distance-matrix ../data/Metabolomics/food/food_braycurtis_dm.qza\n",
    "\n",
    "!qiime diversity beta \\\n",
    "    --i-table ../data/Metabolomics/food/food_feature_table.qza   \\\n",
    "    --p-metric 'aitchison' \\\n",
    "    --o-distance-matrix ../data/Metabolomics/food/food_aitchison_dm.qza\n",
    "\n",
    "!qiime diversity beta \\\n",
    "    --i-table ../data/Metabolomics/food/food_feature_table.qza   \\\n",
    "    --p-metric 'canberra' \\\n",
    "    --o-distance-matrix ../data/Metabolomics/food/food_canberra_dm.qza\n",
    "\n",
    "!qiime diversity pcoa \\\n",
    "    --i-distance-matrix ../data/Metabolomics/food/food_braycurtis_dm.qza \\\n",
    "    --o-pcoa ../data/Metabolomics/food/food_braycurtis_pcoa.qza\n",
    "\n",
    "!qiime diversity pcoa \\\n",
    "    --i-distance-matrix ../data/Metabolomics/food/food_aitchison_dm.qza \\\n",
    "    --o-pcoa ../data/Metabolomics/food/food_aitchison_pcoa.qza\n",
    "\n",
    "!qiime diversity pcoa \\\n",
    "    --i-distance-matrix ../data/Metabolomics/food/food_canberra_dm.qza \\\n",
    "    --o-pcoa ../data/Metabolomics/food/food_canberra_pcoa.qza"
   ]
  },
  {
   "cell_type": "code",
   "execution_count": 167,
   "id": "328184ae",
   "metadata": {},
   "outputs": [
    {
     "name": "stdout",
     "output_type": "stream",
     "text": [
      "\u001b[32mSaved Visualization to: ../data/Metabolomics/food/food_braycurtis_emp.qzv\u001b[0m\n",
      "\u001b[0m\u001b[32mSaved Visualization to: ../data/Metabolomics/food/food_aitchison_emp.qzv\u001b[0m\n",
      "\u001b[0m\u001b[32mSaved Visualization to: ../data/Metabolomics/food/food_canberra_emp.qzv\u001b[0m\n",
      "\u001b[0m"
     ]
    }
   ],
   "source": [
    "!qiime emperor plot \\\n",
    "    --i-pcoa ../data/Metabolomics/food/food_braycurtis_pcoa.qza \\\n",
    "    --m-metadata-file ../data/Metabolomics/MSV000090940_gnps_metadata_fixed.tsv \\\n",
    "    --p-custom-axes timepoint_number \\\n",
    "    --o-visualization ../data/Metabolomics/food/food_braycurtis_emp.qzv\n",
    "\n",
    "!qiime emperor plot \\\n",
    "    --i-pcoa ../data/Metabolomics/food/food_aitchison_pcoa.qza \\\n",
    "    --m-metadata-file ../data/Metabolomics/MSV000090940_gnps_metadata_fixed.tsv \\\n",
    "    --p-custom-axes timepoint_number \\\n",
    "    --o-visualization ../data/Metabolomics/food/food_aitchison_emp.qzv\n",
    "\n",
    "!qiime emperor plot \\\n",
    "    --i-pcoa ../data/Metabolomics/food/food_canberra_pcoa.qza \\\n",
    "    --m-metadata-file ../data/Metabolomics/MSV000090940_gnps_metadata_fixed.tsv \\\n",
    "    --p-custom-axes timepoint_number \\\n",
    "    --o-visualization ../data/Metabolomics/food/food_canberra_emp.qzv\n",
    "#appear empty, see manual plots"
   ]
  },
  {
   "cell_type": "code",
   "execution_count": 168,
   "id": "53b09ebe",
   "metadata": {},
   "outputs": [
    {
     "name": "stdout",
     "output_type": "stream",
     "text": [
      "\u001b[32mSaved PCoAResults % Properties('biplot') to: ../data/Metabolomics/food/RPCA/RPCA_ordination.qza\u001b[0m\r\n",
      "\u001b[32mSaved DistanceMatrix to: ../data/Metabolomics/food/RPCA/RPCA_distance.qza\u001b[0m\r\n",
      "\u001b[0m"
     ]
    }
   ],
   "source": [
    "!qiime gemelli auto-rpca \\\n",
    "    --i-table ../data/Metabolomics/food/food_feature_table.qza \\\n",
    "    --o-biplot ../data/Metabolomics/food/RPCA/RPCA_ordination.qza \\\n",
    "    --o-distance-matrix ../data/Metabolomics/food/RPCA/RPCA_distance.qza"
   ]
  },
  {
   "cell_type": "code",
   "execution_count": 169,
   "id": "caf4d2c0",
   "metadata": {},
   "outputs": [
    {
     "name": "stdout",
     "output_type": "stream",
     "text": [
      "\u001b[32mSaved Visualization to: ../data/Metabolomics/food/RPCA/RPCA_biplot.qzv\u001b[0m\n",
      "\u001b[0m"
     ]
    }
   ],
   "source": [
    "!qiime emperor biplot \\\n",
    "    --i-biplot ../data/Metabolomics/food/RPCA/RPCA_ordination.qza \\\n",
    "    --m-sample-metadata-file ../data/Metabolomics/MSV000090940_gnps_metadata_fixed.tsv \\\n",
    "    --m-feature-metadata-file ../data/Metabolomics/metab-taxonomy.qza \\\n",
    "    --p-number-of-features 10 \\\n",
    "    --o-visualization ../data/Metabolomics/food/RPCA/RPCA_biplot.qzv\n",
    "#good output"
   ]
  },
  {
   "cell_type": "code",
   "execution_count": 177,
   "id": "fd049818",
   "metadata": {},
   "outputs": [
    {
     "name": "stdout",
     "output_type": "stream",
     "text": [
      "\u001b[32mSaved Visualization to: ../data/Metabolomics/food/RPCA/RPCA_foodcat_significance.qzv\u001b[0m\r\n",
      "\u001b[0m"
     ]
    }
   ],
   "source": [
    "!qiime diversity beta-group-significance \\\n",
    "    --i-distance-matrix ../data/Metabolomics/food/RPCA/RPCA_distance.qza \\\n",
    "    --m-metadata-file ../data/Metabolomics/MSV000090940_gnps_metadata_fixed.tsv \\\n",
    "    --m-metadata-column food_cat \\\n",
    "    --p-method permanova \\\n",
    "    --p-pairwise True \\\n",
    "    --o-visualization ../data/Metabolomics/food/RPCA/RPCA_foodcat_significance.qzv"
   ]
  },
  {
   "cell_type": "code",
   "execution_count": 171,
   "id": "eb804d33",
   "metadata": {},
   "outputs": [
    {
     "name": "stdout",
     "output_type": "stream",
     "text": [
      "\u001b[32mSaved FeatureTable[Frequency] to: ../data/Metabolomics/food/RPCA/filtmain_food_feature_table.qza\u001b[0m\r\n",
      "\u001b[0m"
     ]
    }
   ],
   "source": [
    "!qiime feature-table filter-samples \\\n",
    "    --i-table ../data/Metabolomics/food/food_feature_table.qza \\\n",
    "    --p-where \"[food_label] IN ('gel', 'pellet')\" \\\n",
    "    --m-metadata-file ../data/Metabolomics/MSV000090940_gnps_metadata_fixed.tsv \\\n",
    "    --o-filtered-table ../data/Metabolomics/food/RPCA/filtmain_food_feature_table.qza"
   ]
  },
  {
   "cell_type": "code",
   "execution_count": 172,
   "id": "6aeed517",
   "metadata": {},
   "outputs": [
    {
     "name": "stdout",
     "output_type": "stream",
     "text": [
      "\u001b[32mSaved PCoAResults % Properties('biplot') to: ../data/Metabolomics/food/RPCA/main_RPCA_ordination.qza\u001b[0m\r\n",
      "\u001b[32mSaved DistanceMatrix to: ../data/Metabolomics/food/RPCA/main_RPCA_distance.qza\u001b[0m\r\n",
      "\u001b[0m"
     ]
    }
   ],
   "source": [
    "!qiime gemelli auto-rpca \\\n",
    "    --i-table ../data/Metabolomics/food/RPCA/filtmain_food_feature_table.qza \\\n",
    "    --o-biplot ../data/Metabolomics/food/RPCA/main_RPCA_ordination.qza \\\n",
    "    --o-distance-matrix ../data/Metabolomics/food/RPCA/main_RPCA_distance.qza"
   ]
  },
  {
   "cell_type": "code",
   "execution_count": 173,
   "id": "5cf7b62d",
   "metadata": {},
   "outputs": [
    {
     "name": "stdout",
     "output_type": "stream",
     "text": [
      "\u001b[32mSaved Visualization to: ../data/Metabolomics/food/RPCA/main_RPCA_biplot.qzv\u001b[0m\n",
      "\u001b[0m"
     ]
    }
   ],
   "source": [
    "!qiime emperor biplot \\\n",
    "    --i-biplot ../data/Metabolomics/food/RPCA/main_RPCA_ordination.qza \\\n",
    "    --m-sample-metadata-file ../data/Metabolomics/MSV000090940_gnps_metadata_fixed.tsv \\\n",
    "    --m-feature-metadata-file ../data/Metabolomics/metab-taxonomy.qza \\\n",
    "    --p-number-of-features 10 \\\n",
    "    --o-visualization ../data/Metabolomics/food/RPCA/main_RPCA_biplot.qzv\n",
    "#separates best by axis 1 (80%)"
   ]
  },
  {
   "cell_type": "code",
   "execution_count": 175,
   "id": "9aba8ea9",
   "metadata": {},
   "outputs": [
    {
     "name": "stdout",
     "output_type": "stream",
     "text": [
      "\u001b[32mSaved Visualization to: ../data/Metabolomics/food/RPCA/main_RPCA_gelpellet_significance.qzv\u001b[0m\r\n",
      "\u001b[0m"
     ]
    }
   ],
   "source": [
    "!qiime diversity beta-group-significance \\\n",
    "    --i-distance-matrix ../data/Metabolomics/food/RPCA/main_RPCA_distance.qza \\\n",
    "    --m-metadata-file ../data/Metabolomics/MSV000090940_gnps_metadata_fixed.tsv \\\n",
    "    --m-metadata-column food_label \\\n",
    "    --p-method permanova \\\n",
    "    --o-visualization ../data/Metabolomics/food/RPCA/main_RPCA_gelpellet_significance.qzv"
   ]
  },
  {
   "cell_type": "code",
   "execution_count": 174,
   "id": "bcc0795a",
   "metadata": {},
   "outputs": [
    {
     "name": "stdout",
     "output_type": "stream",
     "text": [
      "\u001b[32mSaved Visualization to: ../data/Metabolomics/food/RPCA/RPCA_qurro_plot.qzv\u001b[0m\r\n",
      "\u001b[0m"
     ]
    }
   ],
   "source": [
    "!qiime qurro loading-plot \\\n",
    "    --i-ranks ../data/Metabolomics/food/RPCA/main_RPCA_ordination.qza \\\n",
    "    --i-table ../data/Metabolomics/food/RPCA/filtmain_food_feature_table.qza \\\n",
    "    --m-sample-metadata-file ../data/Metabolomics/MSV000090940_gnps_metadata_fixed.tsv \\\n",
    "    --m-feature-metadata-file ../data/Metabolomics/metab-taxonomy.qza \\\n",
    "    --o-visualization ../data/Metabolomics/food/RPCA/RPCA_qurro_plot.qzv"
   ]
  },
  {
   "cell_type": "markdown",
   "id": "6770d1f7",
   "metadata": {},
   "source": [
    "# RPCA"
   ]
  },
  {
   "cell_type": "markdown",
   "id": "2669d577",
   "metadata": {},
   "source": [
    "[From Dr. Cameron Martino's GitHub Tutorial](https://github.com/biocore/gemelli/blob/master/ipynb/tutorials/RPCA-moving-pictures.ipynb)\n",
    "\n",
    "Aitchison distance relies on log transforms (the log of an exponential taxon 1 is linear). However, it assumes there are no zeros. Robust Aitchison PCA solves this problem in two steps:\n",
    "\n",
    "1. Compostional preprocessing using the centered log ratio transform on only the non-zero values of the data (no pseudo count)\n",
    "\n",
    "2. Dimensionality reduction through Robust PCA on only the non-zero values of the data ( matrix completion).\n",
    "\n",
    "#### DO NOT RARIFY!\n",
    "##### ...but you should filter out poor samples and rare features"
   ]
  },
  {
   "cell_type": "code",
   "execution_count": 81,
   "id": "76734dd6",
   "metadata": {},
   "outputs": [
    {
     "name": "stdout",
     "output_type": "stream",
     "text": [
      "\u001b[32mSaved FeatureTable[Frequency] to: ../data/Metabolomics/animal/RPCA/filt_animal_feature_table.qza\u001b[0m\r\n",
      "\u001b[0m"
     ]
    }
   ],
   "source": [
    "!qiime feature-table filter-samples \\\n",
    "    --i-table ../data/Metabolomics/animal/animal_feature_table.qza \\\n",
    "    --p-where \"[ATTRIBUTE_collection_timepoint] IN ('Pre', 'Post')\" \\\n",
    "    --m-metadata-file ../data/Metabolomics/MSV000090940_gnps_metadata_fixed.tsv \\\n",
    "    --o-filtered-table ../data/Metabolomics/animal/RPCA/filt_animal_feature_table.qza"
   ]
  },
  {
   "cell_type": "code",
   "execution_count": 82,
   "id": "ce0b1507",
   "metadata": {},
   "outputs": [
    {
     "name": "stdout",
     "output_type": "stream",
     "text": [
      "\u001b[32mSaved FeatureTable[Frequency] to: ../data/Metabolomics/animal/RPCA/gemelli_filtered.qza\u001b[0m\n",
      "\u001b[0m"
     ]
    }
   ],
   "source": [
    "!qiime feature-table filter-features \\\n",
    "    --i-table ../data/Metabolomics/animal/RPCA/filt_animal_feature_table.qza \\\n",
    "    --p-min-samples 47 \\\n",
    "    --o-filtered-table ../data/Metabolomics/animal/RPCA/gemelli_filtered.qza\n",
    "#the min number of samples that a feature must be in to be retained [75% of 94 = 71, 50% of 94 = 47]"
   ]
  },
  {
   "cell_type": "code",
   "execution_count": 83,
   "id": "37db33a0",
   "metadata": {},
   "outputs": [
    {
     "name": "stdout",
     "output_type": "stream",
     "text": [
      "\u001b[32mSaved Visualization to: ../data/Metabolomics/animal/RPCA/gemelli_filtered.qzv\u001b[0m\n",
      "\u001b[0m"
     ]
    }
   ],
   "source": [
    "!qiime feature-table summarize \\\n",
    "    --i-table ../data/Metabolomics/animal/RPCA/gemelli_filtered.qza \\\n",
    "    --m-sample-metadata-file ../data/Metabolomics/MSV000090940_gnps_metadata_fixed.tsv \\\n",
    "    --o-visualization ../data/Metabolomics/animal/RPCA/gemelli_filtered.qzv"
   ]
  },
  {
   "cell_type": "code",
   "execution_count": 84,
   "id": "f0bb8047",
   "metadata": {},
   "outputs": [
    {
     "name": "stdout",
     "output_type": "stream",
     "text": [
      "\u001b[32mSaved PCoAResults % Properties('biplot') to: ../data/Metabolomics/animal/RPCA/RPCA_ordination.qza\u001b[0m\n",
      "\u001b[32mSaved DistanceMatrix to: ../data/Metabolomics/animal/RPCA/RPCA_distance.qza\u001b[0m\n",
      "\u001b[0m^C\n"
     ]
    }
   ],
   "source": [
    "!qiime gemelli auto-rpca \\\n",
    "    --i-table ../data/Metabolomics/animal/RPCA/gemelli_filtered.qza \\\n",
    "    --o-biplot ../data/Metabolomics/animal/RPCA/RPCA_ordination.qza \\\n",
    "    --o-distance-matrix ../data/Metabolomics/animal/RPCA/RPCA_distance.qza"
   ]
  },
  {
   "cell_type": "code",
   "execution_count": 31,
   "id": "e950c2cd",
   "metadata": {},
   "outputs": [],
   "source": [
    "import pandas as pd"
   ]
  },
  {
   "cell_type": "code",
   "execution_count": 38,
   "id": "7f7f68a9",
   "metadata": {},
   "outputs": [
    {
     "data": {
      "text/plain": [
       "(6094, 130)"
      ]
     },
     "execution_count": 38,
     "metadata": {},
     "output_type": "execute_result"
    }
   ],
   "source": [
    "ftab = pd.read_csv('../data/Metabolomics/metab-all-feature-table.tsv', skiprows=1, sep='\\t', index_col=0)\n",
    "ftab.shape"
   ]
  },
  {
   "cell_type": "code",
   "execution_count": 39,
   "id": "bd20e969",
   "metadata": {},
   "outputs": [
    {
     "data": {
      "text/plain": [
       "(1183, 46)"
      ]
     },
     "execution_count": 39,
     "metadata": {},
     "output_type": "execute_result"
    }
   ],
   "source": [
    "annots = pd.read_csv('../data/Metabolomics/metab-annotations-alllib.tsv', sep='\\t', index_col=0)\n",
    "annots.shape"
   ]
  },
  {
   "cell_type": "code",
   "execution_count": 40,
   "id": "19425a5c",
   "metadata": {},
   "outputs": [
    {
     "data": {
      "text/html": [
       "<div>\n",
       "<style scoped>\n",
       "    .dataframe tbody tr th:only-of-type {\n",
       "        vertical-align: middle;\n",
       "    }\n",
       "\n",
       "    .dataframe tbody tr th {\n",
       "        vertical-align: top;\n",
       "    }\n",
       "\n",
       "    .dataframe thead th {\n",
       "        text-align: right;\n",
       "    }\n",
       "</style>\n",
       "<table border=\"1\" class=\"dataframe\">\n",
       "  <thead>\n",
       "    <tr style=\"text-align: right;\">\n",
       "      <th></th>\n",
       "      <th>SpectrumID</th>\n",
       "      <th>Compound_Name</th>\n",
       "      <th>Ion_Source</th>\n",
       "      <th>Instrument</th>\n",
       "      <th>Compound_Source</th>\n",
       "      <th>PI</th>\n",
       "      <th>Data_Collector</th>\n",
       "      <th>Adduct</th>\n",
       "      <th>Precursor_MZ</th>\n",
       "      <th>ExactMass</th>\n",
       "      <th>...</th>\n",
       "      <th>MoleculeExplorerDatasets</th>\n",
       "      <th>MoleculeExplorerFiles</th>\n",
       "      <th>InChIKey</th>\n",
       "      <th>InChIKey-Planar</th>\n",
       "      <th>superclass</th>\n",
       "      <th>class</th>\n",
       "      <th>subclass</th>\n",
       "      <th>npclassifier_superclass</th>\n",
       "      <th>npclassifier_class</th>\n",
       "      <th>npclassifier_pathway</th>\n",
       "    </tr>\n",
       "  </thead>\n",
       "  <tbody>\n",
       "    <tr>\n",
       "      <th>18</th>\n",
       "      <td>NaN</td>\n",
       "      <td>NaN</td>\n",
       "      <td>NaN</td>\n",
       "      <td>NaN</td>\n",
       "      <td>NaN</td>\n",
       "      <td>NaN</td>\n",
       "      <td>NaN</td>\n",
       "      <td>NaN</td>\n",
       "      <td>NaN</td>\n",
       "      <td>NaN</td>\n",
       "      <td>...</td>\n",
       "      <td>NaN</td>\n",
       "      <td>NaN</td>\n",
       "      <td>NaN</td>\n",
       "      <td>NaN</td>\n",
       "      <td>NaN</td>\n",
       "      <td>NaN</td>\n",
       "      <td>NaN</td>\n",
       "      <td>NaN</td>\n",
       "      <td>NaN</td>\n",
       "      <td>NaN</td>\n",
       "    </tr>\n",
       "    <tr>\n",
       "      <th>33</th>\n",
       "      <td>NaN</td>\n",
       "      <td>NaN</td>\n",
       "      <td>NaN</td>\n",
       "      <td>NaN</td>\n",
       "      <td>NaN</td>\n",
       "      <td>NaN</td>\n",
       "      <td>NaN</td>\n",
       "      <td>NaN</td>\n",
       "      <td>NaN</td>\n",
       "      <td>NaN</td>\n",
       "      <td>...</td>\n",
       "      <td>NaN</td>\n",
       "      <td>NaN</td>\n",
       "      <td>NaN</td>\n",
       "      <td>NaN</td>\n",
       "      <td>NaN</td>\n",
       "      <td>NaN</td>\n",
       "      <td>NaN</td>\n",
       "      <td>NaN</td>\n",
       "      <td>NaN</td>\n",
       "      <td>NaN</td>\n",
       "    </tr>\n",
       "    <tr>\n",
       "      <th>44</th>\n",
       "      <td>NaN</td>\n",
       "      <td>NaN</td>\n",
       "      <td>NaN</td>\n",
       "      <td>NaN</td>\n",
       "      <td>NaN</td>\n",
       "      <td>NaN</td>\n",
       "      <td>NaN</td>\n",
       "      <td>NaN</td>\n",
       "      <td>NaN</td>\n",
       "      <td>NaN</td>\n",
       "      <td>...</td>\n",
       "      <td>NaN</td>\n",
       "      <td>NaN</td>\n",
       "      <td>NaN</td>\n",
       "      <td>NaN</td>\n",
       "      <td>NaN</td>\n",
       "      <td>NaN</td>\n",
       "      <td>NaN</td>\n",
       "      <td>NaN</td>\n",
       "      <td>NaN</td>\n",
       "      <td>NaN</td>\n",
       "    </tr>\n",
       "    <tr>\n",
       "      <th>52</th>\n",
       "      <td>NaN</td>\n",
       "      <td>NaN</td>\n",
       "      <td>NaN</td>\n",
       "      <td>NaN</td>\n",
       "      <td>NaN</td>\n",
       "      <td>NaN</td>\n",
       "      <td>NaN</td>\n",
       "      <td>NaN</td>\n",
       "      <td>NaN</td>\n",
       "      <td>NaN</td>\n",
       "      <td>...</td>\n",
       "      <td>NaN</td>\n",
       "      <td>NaN</td>\n",
       "      <td>NaN</td>\n",
       "      <td>NaN</td>\n",
       "      <td>NaN</td>\n",
       "      <td>NaN</td>\n",
       "      <td>NaN</td>\n",
       "      <td>NaN</td>\n",
       "      <td>NaN</td>\n",
       "      <td>NaN</td>\n",
       "    </tr>\n",
       "    <tr>\n",
       "      <th>56</th>\n",
       "      <td>NaN</td>\n",
       "      <td>NaN</td>\n",
       "      <td>NaN</td>\n",
       "      <td>NaN</td>\n",
       "      <td>NaN</td>\n",
       "      <td>NaN</td>\n",
       "      <td>NaN</td>\n",
       "      <td>NaN</td>\n",
       "      <td>NaN</td>\n",
       "      <td>NaN</td>\n",
       "      <td>...</td>\n",
       "      <td>NaN</td>\n",
       "      <td>NaN</td>\n",
       "      <td>NaN</td>\n",
       "      <td>NaN</td>\n",
       "      <td>NaN</td>\n",
       "      <td>NaN</td>\n",
       "      <td>NaN</td>\n",
       "      <td>NaN</td>\n",
       "      <td>NaN</td>\n",
       "      <td>NaN</td>\n",
       "    </tr>\n",
       "    <tr>\n",
       "      <th>...</th>\n",
       "      <td>...</td>\n",
       "      <td>...</td>\n",
       "      <td>...</td>\n",
       "      <td>...</td>\n",
       "      <td>...</td>\n",
       "      <td>...</td>\n",
       "      <td>...</td>\n",
       "      <td>...</td>\n",
       "      <td>...</td>\n",
       "      <td>...</td>\n",
       "      <td>...</td>\n",
       "      <td>...</td>\n",
       "      <td>...</td>\n",
       "      <td>...</td>\n",
       "      <td>...</td>\n",
       "      <td>...</td>\n",
       "      <td>...</td>\n",
       "      <td>...</td>\n",
       "      <td>...</td>\n",
       "      <td>...</td>\n",
       "      <td>...</td>\n",
       "    </tr>\n",
       "    <tr>\n",
       "      <th>9568</th>\n",
       "      <td>CCMSLIB00009995072</td>\n",
       "      <td>Suspect related to Spectral Match to Linoleoyl...</td>\n",
       "      <td>ESI</td>\n",
       "      <td>qTof</td>\n",
       "      <td>Crude</td>\n",
       "      <td>Pieter Dorrestein</td>\n",
       "      <td>Wout Bittremieux</td>\n",
       "      <td>[M+H]+</td>\n",
       "      <td>328.320</td>\n",
       "      <td>0.0</td>\n",
       "      <td>...</td>\n",
       "      <td>0.0</td>\n",
       "      <td>0.0</td>\n",
       "      <td>NaN</td>\n",
       "      <td>NaN</td>\n",
       "      <td>NaN</td>\n",
       "      <td>NaN</td>\n",
       "      <td>NaN</td>\n",
       "      <td>NaN</td>\n",
       "      <td>NaN</td>\n",
       "      <td>NaN</td>\n",
       "    </tr>\n",
       "    <tr>\n",
       "      <th>9570</th>\n",
       "      <td>CCMSLIB00009963034</td>\n",
       "      <td>Suspect related to Massbank:RP029902 N-Oleoyl-...</td>\n",
       "      <td>ESI</td>\n",
       "      <td>qTof</td>\n",
       "      <td>Crude</td>\n",
       "      <td>Pieter Dorrestein</td>\n",
       "      <td>Wout Bittremieux</td>\n",
       "      <td>[M+H]+</td>\n",
       "      <td>444.349</td>\n",
       "      <td>0.0</td>\n",
       "      <td>...</td>\n",
       "      <td>0.0</td>\n",
       "      <td>0.0</td>\n",
       "      <td>NaN</td>\n",
       "      <td>NaN</td>\n",
       "      <td>NaN</td>\n",
       "      <td>NaN</td>\n",
       "      <td>NaN</td>\n",
       "      <td>NaN</td>\n",
       "      <td>NaN</td>\n",
       "      <td>NaN</td>\n",
       "    </tr>\n",
       "    <tr>\n",
       "      <th>9572</th>\n",
       "      <td>NaN</td>\n",
       "      <td>NaN</td>\n",
       "      <td>NaN</td>\n",
       "      <td>NaN</td>\n",
       "      <td>NaN</td>\n",
       "      <td>NaN</td>\n",
       "      <td>NaN</td>\n",
       "      <td>NaN</td>\n",
       "      <td>NaN</td>\n",
       "      <td>NaN</td>\n",
       "      <td>...</td>\n",
       "      <td>NaN</td>\n",
       "      <td>NaN</td>\n",
       "      <td>NaN</td>\n",
       "      <td>NaN</td>\n",
       "      <td>NaN</td>\n",
       "      <td>NaN</td>\n",
       "      <td>NaN</td>\n",
       "      <td>NaN</td>\n",
       "      <td>NaN</td>\n",
       "      <td>NaN</td>\n",
       "    </tr>\n",
       "    <tr>\n",
       "      <th>9573</th>\n",
       "      <td>CCMSLIB00009962990</td>\n",
       "      <td>Suspect related to Massbank:RP029702 N-Oleyl-L...</td>\n",
       "      <td>ESI</td>\n",
       "      <td>qTof</td>\n",
       "      <td>Crude</td>\n",
       "      <td>Pieter Dorrestein</td>\n",
       "      <td>Wout Bittremieux</td>\n",
       "      <td>[M+H]+</td>\n",
       "      <td>410.364</td>\n",
       "      <td>0.0</td>\n",
       "      <td>...</td>\n",
       "      <td>0.0</td>\n",
       "      <td>0.0</td>\n",
       "      <td>NaN</td>\n",
       "      <td>NaN</td>\n",
       "      <td>NaN</td>\n",
       "      <td>NaN</td>\n",
       "      <td>NaN</td>\n",
       "      <td>NaN</td>\n",
       "      <td>NaN</td>\n",
       "      <td>NaN</td>\n",
       "    </tr>\n",
       "    <tr>\n",
       "      <th>9575</th>\n",
       "      <td>NaN</td>\n",
       "      <td>NaN</td>\n",
       "      <td>NaN</td>\n",
       "      <td>NaN</td>\n",
       "      <td>NaN</td>\n",
       "      <td>NaN</td>\n",
       "      <td>NaN</td>\n",
       "      <td>NaN</td>\n",
       "      <td>NaN</td>\n",
       "      <td>NaN</td>\n",
       "      <td>...</td>\n",
       "      <td>NaN</td>\n",
       "      <td>NaN</td>\n",
       "      <td>NaN</td>\n",
       "      <td>NaN</td>\n",
       "      <td>NaN</td>\n",
       "      <td>NaN</td>\n",
       "      <td>NaN</td>\n",
       "      <td>NaN</td>\n",
       "      <td>NaN</td>\n",
       "      <td>NaN</td>\n",
       "    </tr>\n",
       "  </tbody>\n",
       "</table>\n",
       "<p>6094 rows × 46 columns</p>\n",
       "</div>"
      ],
      "text/plain": [
       "              SpectrumID                                      Compound_Name  \\\n",
       "18                   NaN                                                NaN   \n",
       "33                   NaN                                                NaN   \n",
       "44                   NaN                                                NaN   \n",
       "52                   NaN                                                NaN   \n",
       "56                   NaN                                                NaN   \n",
       "...                  ...                                                ...   \n",
       "9568  CCMSLIB00009995072  Suspect related to Spectral Match to Linoleoyl...   \n",
       "9570  CCMSLIB00009963034  Suspect related to Massbank:RP029902 N-Oleoyl-...   \n",
       "9572                 NaN                                                NaN   \n",
       "9573  CCMSLIB00009962990  Suspect related to Massbank:RP029702 N-Oleyl-L...   \n",
       "9575                 NaN                                                NaN   \n",
       "\n",
       "     Ion_Source Instrument Compound_Source                 PI  \\\n",
       "18          NaN        NaN             NaN                NaN   \n",
       "33          NaN        NaN             NaN                NaN   \n",
       "44          NaN        NaN             NaN                NaN   \n",
       "52          NaN        NaN             NaN                NaN   \n",
       "56          NaN        NaN             NaN                NaN   \n",
       "...         ...        ...             ...                ...   \n",
       "9568        ESI       qTof           Crude  Pieter Dorrestein   \n",
       "9570        ESI       qTof           Crude  Pieter Dorrestein   \n",
       "9572        NaN        NaN             NaN                NaN   \n",
       "9573        ESI       qTof           Crude  Pieter Dorrestein   \n",
       "9575        NaN        NaN             NaN                NaN   \n",
       "\n",
       "        Data_Collector  Adduct  Precursor_MZ  ExactMass  ...  \\\n",
       "18                 NaN     NaN           NaN        NaN  ...   \n",
       "33                 NaN     NaN           NaN        NaN  ...   \n",
       "44                 NaN     NaN           NaN        NaN  ...   \n",
       "52                 NaN     NaN           NaN        NaN  ...   \n",
       "56                 NaN     NaN           NaN        NaN  ...   \n",
       "...                ...     ...           ...        ...  ...   \n",
       "9568  Wout Bittremieux  [M+H]+       328.320        0.0  ...   \n",
       "9570  Wout Bittremieux  [M+H]+       444.349        0.0  ...   \n",
       "9572               NaN     NaN           NaN        NaN  ...   \n",
       "9573  Wout Bittremieux  [M+H]+       410.364        0.0  ...   \n",
       "9575               NaN     NaN           NaN        NaN  ...   \n",
       "\n",
       "      MoleculeExplorerDatasets MoleculeExplorerFiles InChIKey InChIKey-Planar  \\\n",
       "18                         NaN                   NaN      NaN             NaN   \n",
       "33                         NaN                   NaN      NaN             NaN   \n",
       "44                         NaN                   NaN      NaN             NaN   \n",
       "52                         NaN                   NaN      NaN             NaN   \n",
       "56                         NaN                   NaN      NaN             NaN   \n",
       "...                        ...                   ...      ...             ...   \n",
       "9568                       0.0                   0.0      NaN             NaN   \n",
       "9570                       0.0                   0.0      NaN             NaN   \n",
       "9572                       NaN                   NaN      NaN             NaN   \n",
       "9573                       0.0                   0.0      NaN             NaN   \n",
       "9575                       NaN                   NaN      NaN             NaN   \n",
       "\n",
       "     superclass class  subclass npclassifier_superclass npclassifier_class  \\\n",
       "18          NaN   NaN       NaN                     NaN                NaN   \n",
       "33          NaN   NaN       NaN                     NaN                NaN   \n",
       "44          NaN   NaN       NaN                     NaN                NaN   \n",
       "52          NaN   NaN       NaN                     NaN                NaN   \n",
       "56          NaN   NaN       NaN                     NaN                NaN   \n",
       "...         ...   ...       ...                     ...                ...   \n",
       "9568        NaN   NaN       NaN                     NaN                NaN   \n",
       "9570        NaN   NaN       NaN                     NaN                NaN   \n",
       "9572        NaN   NaN       NaN                     NaN                NaN   \n",
       "9573        NaN   NaN       NaN                     NaN                NaN   \n",
       "9575        NaN   NaN       NaN                     NaN                NaN   \n",
       "\n",
       "     npclassifier_pathway  \n",
       "18                    NaN  \n",
       "33                    NaN  \n",
       "44                    NaN  \n",
       "52                    NaN  \n",
       "56                    NaN  \n",
       "...                   ...  \n",
       "9568                  NaN  \n",
       "9570                  NaN  \n",
       "9572                  NaN  \n",
       "9573                  NaN  \n",
       "9575                  NaN  \n",
       "\n",
       "[6094 rows x 46 columns]"
      ]
     },
     "execution_count": 40,
     "metadata": {},
     "output_type": "execute_result"
    }
   ],
   "source": [
    "totannot = pd.merge(ftab[[]], annots, how='outer', left_index=True, right_index=True)\n",
    "totannot"
   ]
  },
  {
   "cell_type": "code",
   "execution_count": 44,
   "id": "03a01710",
   "metadata": {},
   "outputs": [
    {
     "data": {
      "text/html": [
       "<div>\n",
       "<style scoped>\n",
       "    .dataframe tbody tr th:only-of-type {\n",
       "        vertical-align: middle;\n",
       "    }\n",
       "\n",
       "    .dataframe tbody tr th {\n",
       "        vertical-align: top;\n",
       "    }\n",
       "\n",
       "    .dataframe thead th {\n",
       "        text-align: right;\n",
       "    }\n",
       "</style>\n",
       "<table border=\"1\" class=\"dataframe\">\n",
       "  <thead>\n",
       "    <tr style=\"text-align: right;\">\n",
       "      <th></th>\n",
       "      <th>Taxon</th>\n",
       "    </tr>\n",
       "    <tr>\n",
       "      <th>Feature ID</th>\n",
       "      <th></th>\n",
       "    </tr>\n",
       "  </thead>\n",
       "  <tbody>\n",
       "    <tr>\n",
       "      <th>18</th>\n",
       "      <td>unannotated</td>\n",
       "    </tr>\n",
       "    <tr>\n",
       "      <th>33</th>\n",
       "      <td>unannotated</td>\n",
       "    </tr>\n",
       "    <tr>\n",
       "      <th>44</th>\n",
       "      <td>unannotated</td>\n",
       "    </tr>\n",
       "    <tr>\n",
       "      <th>52</th>\n",
       "      <td>unannotated</td>\n",
       "    </tr>\n",
       "    <tr>\n",
       "      <th>56</th>\n",
       "      <td>unannotated</td>\n",
       "    </tr>\n",
       "  </tbody>\n",
       "</table>\n",
       "</div>"
      ],
      "text/plain": [
       "                  Taxon\n",
       "Feature ID             \n",
       "18          unannotated\n",
       "33          unannotated\n",
       "44          unannotated\n",
       "52          unannotated\n",
       "56          unannotated"
      ]
     },
     "execution_count": 44,
     "metadata": {},
     "output_type": "execute_result"
    }
   ],
   "source": [
    "annotformat = totannot[['Compound_Name']].copy()\n",
    "annotformat2 = annotformat.Compound_Name.fillna('unannotated')\n",
    "annotformat3 = annotformat2.reset_index().rename(columns={'index':'Feature ID', 'Compound_Name': 'Taxon'})\n",
    "annotformat3.set_index('Feature ID', inplace=True)\n",
    "annotformat3.head()"
   ]
  },
  {
   "cell_type": "code",
   "execution_count": 47,
   "id": "6c3ea9c6",
   "metadata": {},
   "outputs": [],
   "source": [
    "annotformat3.to_csv('../data/Metabolomics/metab-taxonomy.tsv', sep='\\t')"
   ]
  },
  {
   "cell_type": "code",
   "execution_count": 161,
   "id": "c72c0c7c",
   "metadata": {},
   "outputs": [
    {
     "data": {
      "text/html": [
       "<div>\n",
       "<style scoped>\n",
       "    .dataframe tbody tr th:only-of-type {\n",
       "        vertical-align: middle;\n",
       "    }\n",
       "\n",
       "    .dataframe tbody tr th {\n",
       "        vertical-align: top;\n",
       "    }\n",
       "\n",
       "    .dataframe thead th {\n",
       "        text-align: right;\n",
       "    }\n",
       "</style>\n",
       "<table border=\"1\" class=\"dataframe\">\n",
       "  <thead>\n",
       "    <tr style=\"text-align: right;\">\n",
       "      <th></th>\n",
       "      <th>Taxon</th>\n",
       "    </tr>\n",
       "    <tr>\n",
       "      <th>Feature ID</th>\n",
       "      <th></th>\n",
       "    </tr>\n",
       "  </thead>\n",
       "  <tbody>\n",
       "    <tr>\n",
       "      <th>2756</th>\n",
       "      <td>Massbank:EQ330402 Adenosine|(2R,3R,4S,5R)-2-(6...</td>\n",
       "    </tr>\n",
       "    <tr>\n",
       "      <th>9222</th>\n",
       "      <td>Suspect related to Spectral Match to 13-Keto-9...</td>\n",
       "    </tr>\n",
       "    <tr>\n",
       "      <th>3119</th>\n",
       "      <td>N-METHYLTYRAMINE</td>\n",
       "    </tr>\n",
       "    <tr>\n",
       "      <th>3729</th>\n",
       "      <td>Suspect related to Spectral Match to Maltotetr...</td>\n",
       "    </tr>\n",
       "    <tr>\n",
       "      <th>9215</th>\n",
       "      <td>Suspect related to Palmitic acid alkyne (predi...</td>\n",
       "    </tr>\n",
       "  </tbody>\n",
       "</table>\n",
       "</div>"
      ],
      "text/plain": [
       "                                                        Taxon\n",
       "Feature ID                                                   \n",
       "2756        Massbank:EQ330402 Adenosine|(2R,3R,4S,5R)-2-(6...\n",
       "9222        Suspect related to Spectral Match to 13-Keto-9...\n",
       "3119                                         N-METHYLTYRAMINE\n",
       "3729        Suspect related to Spectral Match to Maltotetr...\n",
       "9215        Suspect related to Palmitic acid alkyne (predi..."
      ]
     },
     "execution_count": 161,
     "metadata": {},
     "output_type": "execute_result"
    }
   ],
   "source": [
    "onlyannots = annots[['Compound_Name']].copy()\n",
    "onlyannots3 = onlyannots.reset_index().rename(columns={'feature-id':'Feature ID', 'Compound_Name': 'Taxon'})\n",
    "onlyannots3.set_index('Feature ID', inplace=True)\n",
    "onlyannots3.head()"
   ]
  },
  {
   "cell_type": "code",
   "execution_count": 162,
   "id": "c8b04975",
   "metadata": {},
   "outputs": [],
   "source": [
    "onlyannots3.to_csv('../data/Metabolomics/onlyannot-metab-taxonomy.tsv', sep='\\t')"
   ]
  },
  {
   "cell_type": "code",
   "execution_count": 48,
   "id": "1e4955f2",
   "metadata": {},
   "outputs": [
    {
     "name": "stdout",
     "output_type": "stream",
     "text": [
      "\u001b[32mImported ../data/Metabolomics/metab-taxonomy.tsv as TSVTaxonomyFormat to ../data/Metabolomics/metab-taxonomy.qza\u001b[0m\r\n",
      "\u001b[0m"
     ]
    }
   ],
   "source": [
    "!qiime tools import \\\n",
    "  --input-path ../data/Metabolomics/metab-taxonomy.tsv \\\n",
    "  --type 'FeatureData[Taxonomy]' \\\n",
    "  --input-format TSVTaxonomyFormat \\\n",
    "  --output-path ../data/Metabolomics/metab-taxonomy.qza"
   ]
  },
  {
   "cell_type": "code",
   "execution_count": 163,
   "id": "9ebdaa33",
   "metadata": {},
   "outputs": [
    {
     "name": "stdout",
     "output_type": "stream",
     "text": [
      "\u001b[32mImported ../data/Metabolomics/onlyannot-metab-taxonomy.tsv as TSVTaxonomyFormat to ../data/Metabolomics/onlyannot-metab-taxonomy.qza\u001b[0m\r\n",
      "\u001b[0m"
     ]
    }
   ],
   "source": [
    "!qiime tools import \\\n",
    "  --input-path ../data/Metabolomics/onlyannot-metab-taxonomy.tsv \\\n",
    "  --type 'FeatureData[Taxonomy]' \\\n",
    "  --input-format TSVTaxonomyFormat \\\n",
    "  --output-path ../data/Metabolomics/onlyannot-metab-taxonomy.qza"
   ]
  },
  {
   "cell_type": "code",
   "execution_count": 85,
   "id": "a507ae56",
   "metadata": {},
   "outputs": [
    {
     "name": "stdout",
     "output_type": "stream",
     "text": [
      "\u001b[32mSaved Visualization to: ../data/Metabolomics/animal/RPCA/RPCA_biplot.qzv\u001b[0m\r\n",
      "\u001b[0m"
     ]
    }
   ],
   "source": [
    "!qiime emperor biplot \\\n",
    "    --i-biplot ../data/Metabolomics/animal/RPCA/RPCA_ordination.qza \\\n",
    "    --m-sample-metadata-file ../data/Metabolomics/MSV000090940_gnps_metadata_fixed.tsv \\\n",
    "    --m-feature-metadata-file ../data/Metabolomics/metab-taxonomy.qza \\\n",
    "    --p-number-of-features 10 \\\n",
    "    --o-visualization ../data/Metabolomics/animal/RPCA/RPCA_biplot.qzv"
   ]
  },
  {
   "cell_type": "code",
   "execution_count": 164,
   "id": "2aa12b75",
   "metadata": {},
   "outputs": [
    {
     "name": "stdout",
     "output_type": "stream",
     "text": [
      "\u001b[31m\u001b[1mPlugin error from emperor:\r\n",
      "\r\n",
      "  index cannot be a set\r\n",
      "\r\n",
      "Debug info has been saved to /var/folders/m1/h11rhh850_s7fjxgxw5wzh_r0000gp/T/qiime2-q2cli-err-1630fuyq.log\u001b[0m\r\n",
      "\u001b[0m"
     ]
    }
   ],
   "source": [
    "!qiime emperor biplot \\\n",
    "    --i-biplot ../data/Metabolomics/animal/RPCA/RPCA_ordination.qza \\\n",
    "    --m-sample-metadata-file ../data/Metabolomics/MSV000090940_gnps_metadata_fixed.tsv \\\n",
    "    --m-feature-metadata-file ../data/Metabolomics/onlyannot-metab-taxonomy.qza \\\n",
    "    --p-number-of-features 10 \\\n",
    "    --p-ignore-missing-samples True \\\n",
    "    --o-visualization ../data/Metabolomics/animal/RPCA/RPCA_biplot-onlyannot.qzv"
   ]
  },
  {
   "cell_type": "code",
   "execution_count": 86,
   "id": "b61ebc31",
   "metadata": {},
   "outputs": [
    {
     "name": "stdout",
     "output_type": "stream",
     "text": [
      "\u001b[32mSaved Visualization to: ../data/Metabolomics/animal/RPCA/RPCA_PrePost_significance.qzv\u001b[0m\r\n",
      "\u001b[0m"
     ]
    }
   ],
   "source": [
    "!qiime diversity beta-group-significance \\\n",
    "    --i-distance-matrix ../data/Metabolomics/animal/RPCA/RPCA_distance.qza \\\n",
    "    --m-metadata-file ../data/Metabolomics/MSV000090940_gnps_metadata_fixed.tsv \\\n",
    "    --m-metadata-column ATTRIBUTE_collection_timepoint \\\n",
    "    --p-method permanova \\\n",
    "    --o-visualization ../data/Metabolomics/animal/RPCA/RPCA_PrePost_significance.qzv"
   ]
  },
  {
   "cell_type": "code",
   "execution_count": 87,
   "id": "4544ca00",
   "metadata": {},
   "outputs": [
    {
     "name": "stdout",
     "output_type": "stream",
     "text": [
      "\u001b[32mSaved Visualization to: ../data/Metabolomics/animal/RPCA/RPCA_marmosetpair_significance.qzv\u001b[0m\r\n",
      "\u001b[0m"
     ]
    }
   ],
   "source": [
    "!qiime diversity beta-group-significance \\\n",
    "    --i-distance-matrix ../data/Metabolomics/animal/RPCA/RPCA_distance.qza \\\n",
    "    --m-metadata-file ../data/Metabolomics/MSV000090940_gnps_metadata_fixed.tsv \\\n",
    "    --m-metadata-column ATTRIBUTE_tube_id  \\\n",
    "    --p-method permanova \\\n",
    "    --p-pairwise True \\\n",
    "    --o-visualization ../data/Metabolomics/animal/RPCA/RPCA_marmosetpair_significance.qzv"
   ]
  },
  {
   "cell_type": "code",
   "execution_count": 154,
   "id": "5d0fadd3",
   "metadata": {},
   "outputs": [
    {
     "name": "stdout",
     "output_type": "stream",
     "text": [
      "\u001b[32mSaved Visualization to: ../data/Metabolomics/animal/RPCA/RPCA_qurro_plot.qzv\u001b[0m\n",
      "\u001b[0m"
     ]
    }
   ],
   "source": [
    "!qiime qurro loading-plot \\\n",
    "    --i-ranks ../data/Metabolomics/animal/RPCA/RPCA_ordination.qza \\\n",
    "    --i-table ../data/Metabolomics/animal/RPCA/gemelli_filtered.qza \\\n",
    "    --m-sample-metadata-file ../data/Metabolomics/MSV000090940_gnps_metadata_fixed.tsv \\\n",
    "    --m-feature-metadata-file ../data/Metabolomics/metab-taxonomy.qza \\\n",
    "    --o-visualization ../data/Metabolomics/animal/RPCA/RPCA_qurro_plot.qzv"
   ]
  },
  {
   "cell_type": "markdown",
   "id": "49661e11",
   "metadata": {},
   "source": [
    "# CTF"
   ]
  },
  {
   "cell_type": "code",
   "execution_count": 147,
   "id": "5c6458b6",
   "metadata": {},
   "outputs": [
    {
     "name": "stdout",
     "output_type": "stream",
     "text": [
      "\u001b[32mSaved PCoAResults % Properties('biplot') to: ../data/Metabolomics/animal/ctf-results/subject_biplot.qza\u001b[0m\n",
      "\u001b[32mSaved PCoAResults % Properties('biplot') to: ../data/Metabolomics/animal/ctf-results/state_biplot.qza\u001b[0m\n",
      "\u001b[32mSaved DistanceMatrix to: ../data/Metabolomics/animal/ctf-results/distance_matrix.qza\u001b[0m\n",
      "\u001b[32mSaved SampleData[SampleTrajectory] to: ../data/Metabolomics/animal/ctf-results/state_subject_ordination.qza\u001b[0m\n",
      "\u001b[32mSaved FeatureData[FeatureTrajectory] to: ../data/Metabolomics/animal/ctf-results/state_feature_ordination.qza\u001b[0m\n",
      "\u001b[0m"
     ]
    }
   ],
   "source": [
    "!qiime gemelli ctf \\\n",
    "    --i-table  ../data/Metabolomics/animal/RPCA/gemelli_filtered.qza \\\n",
    "    --m-sample-metadata-file ../data/Metabolomics/animal/ctf_metadata.tsv \\\n",
    "    --m-feature-metadata-file ../data/Metabolomics/metab-taxonomy.qza \\\n",
    "    --p-state-column ATTRIBUTE_collection_timepoint_number \\\n",
    "    --p-individual-id-column marm_group \\\n",
    "    --output-dir ../data/Metabolomics/animal/ctf-results"
   ]
  },
  {
   "cell_type": "code",
   "execution_count": null,
   "id": "deb289df",
   "metadata": {},
   "outputs": [],
   "source": [
    "import pandas as pd"
   ]
  },
  {
   "cell_type": "code",
   "execution_count": 144,
   "id": "f56c0b89",
   "metadata": {},
   "outputs": [
    {
     "data": {
      "text/html": [
       "<div>\n",
       "<style scoped>\n",
       "    .dataframe tbody tr th:only-of-type {\n",
       "        vertical-align: middle;\n",
       "    }\n",
       "\n",
       "    .dataframe tbody tr th {\n",
       "        vertical-align: top;\n",
       "    }\n",
       "\n",
       "    .dataframe thead th {\n",
       "        text-align: right;\n",
       "    }\n",
       "</style>\n",
       "<table border=\"1\" class=\"dataframe\">\n",
       "  <thead>\n",
       "    <tr style=\"text-align: right;\">\n",
       "      <th></th>\n",
       "      <th>MASSIVE-ID</th>\n",
       "      <th>SampleType</th>\n",
       "      <th>SampleTypeSub1</th>\n",
       "      <th>NCBITaxonomy</th>\n",
       "      <th>YearOfAnalysis</th>\n",
       "      <th>SampleCollectionMethod</th>\n",
       "      <th>SampleExtractionMethod</th>\n",
       "      <th>InternalStandardsUsed</th>\n",
       "      <th>MassSpectrometer</th>\n",
       "      <th>IonizationSourceAndPolarity</th>\n",
       "      <th>...</th>\n",
       "      <th>LifeStage</th>\n",
       "      <th>UBERONOntologyIndex</th>\n",
       "      <th>DOIDOntologyIndex</th>\n",
       "      <th>ATTRIBUTE_tube_id</th>\n",
       "      <th>ATTRIBUTE_tube_id_initials</th>\n",
       "      <th>ATTRIBUTE_date collected</th>\n",
       "      <th>ATTRIBUTE_collection_timepoint</th>\n",
       "      <th>ATTRIBUTE_collection_timepoint_number</th>\n",
       "      <th>timepoint_number</th>\n",
       "      <th>marm_group</th>\n",
       "    </tr>\n",
       "    <tr>\n",
       "      <th>sample-id</th>\n",
       "      <th></th>\n",
       "      <th></th>\n",
       "      <th></th>\n",
       "      <th></th>\n",
       "      <th></th>\n",
       "      <th></th>\n",
       "      <th></th>\n",
       "      <th></th>\n",
       "      <th></th>\n",
       "      <th></th>\n",
       "      <th></th>\n",
       "      <th></th>\n",
       "      <th></th>\n",
       "      <th></th>\n",
       "      <th></th>\n",
       "      <th></th>\n",
       "      <th></th>\n",
       "      <th></th>\n",
       "      <th></th>\n",
       "      <th></th>\n",
       "      <th></th>\n",
       "    </tr>\n",
       "  </thead>\n",
       "  <tbody>\n",
       "    <tr>\n",
       "      <th>mrmst_fecal_33.mzML</th>\n",
       "      <td>MSV000090940</td>\n",
       "      <td>animal</td>\n",
       "      <td>biofluid</td>\n",
       "      <td>9483|Callithrix jacchus</td>\n",
       "      <td>2022</td>\n",
       "      <td>solid material, fresh</td>\n",
       "      <td>methanol-water (1:1)</td>\n",
       "      <td>sulfadimethoxine</td>\n",
       "      <td>Q Exactive|MS:1001911</td>\n",
       "      <td>electrospray ionization (positive)</td>\n",
       "      <td>...</td>\n",
       "      <td>not applicable</td>\n",
       "      <td>UBERON:0001988</td>\n",
       "      <td>not applicable</td>\n",
       "      <td>gadget</td>\n",
       "      <td>G</td>\n",
       "      <td>9/21/21</td>\n",
       "      <td>not applicable</td>\n",
       "      <td>not applicable</td>\n",
       "      <td>0</td>\n",
       "      <td>(gadget)_not applicable</td>\n",
       "    </tr>\n",
       "    <tr>\n",
       "      <th>mrmst_food_10.mzML</th>\n",
       "      <td>MSV000090940</td>\n",
       "      <td>food</td>\n",
       "      <td>food_source_complex</td>\n",
       "      <td>not applicable</td>\n",
       "      <td>2022</td>\n",
       "      <td>solid material, fresh</td>\n",
       "      <td>methanol-water (1:1)</td>\n",
       "      <td>sulfadimethoxine</td>\n",
       "      <td>Q Exactive|MS:1001911</td>\n",
       "      <td>electrospray ionization (positive)</td>\n",
       "      <td>...</td>\n",
       "      <td>not applicable</td>\n",
       "      <td>not applicable</td>\n",
       "      <td>not applicable</td>\n",
       "      <td>apple</td>\n",
       "      <td>not applicable</td>\n",
       "      <td>11/1/22</td>\n",
       "      <td>not applicable</td>\n",
       "      <td>not applicable</td>\n",
       "      <td>0</td>\n",
       "      <td>apple_not applicable</td>\n",
       "    </tr>\n",
       "    <tr>\n",
       "      <th>mrmst_food_19.mzML</th>\n",
       "      <td>MSV000090940</td>\n",
       "      <td>food</td>\n",
       "      <td>food_source_complex</td>\n",
       "      <td>not applicable</td>\n",
       "      <td>2022</td>\n",
       "      <td>solid material, fresh</td>\n",
       "      <td>methanol-water (1:1)</td>\n",
       "      <td>sulfadimethoxine</td>\n",
       "      <td>Q Exactive|MS:1001911</td>\n",
       "      <td>electrospray ionization (positive)</td>\n",
       "      <td>...</td>\n",
       "      <td>not applicable</td>\n",
       "      <td>not applicable</td>\n",
       "      <td>not applicable</td>\n",
       "      <td>baby food</td>\n",
       "      <td>not applicable</td>\n",
       "      <td>11/1/22</td>\n",
       "      <td>not applicable</td>\n",
       "      <td>not applicable</td>\n",
       "      <td>0</td>\n",
       "      <td>baby_food_not applicable</td>\n",
       "    </tr>\n",
       "    <tr>\n",
       "      <th>mrmst_food_05.mzML</th>\n",
       "      <td>MSV000090940</td>\n",
       "      <td>food</td>\n",
       "      <td>food_source_complex</td>\n",
       "      <td>not applicable</td>\n",
       "      <td>2022</td>\n",
       "      <td>solid material, fresh</td>\n",
       "      <td>methanol-water (1:1)</td>\n",
       "      <td>sulfadimethoxine</td>\n",
       "      <td>Q Exactive|MS:1001911</td>\n",
       "      <td>electrospray ionization (positive)</td>\n",
       "      <td>...</td>\n",
       "      <td>not applicable</td>\n",
       "      <td>not applicable</td>\n",
       "      <td>not applicable</td>\n",
       "      <td>banana</td>\n",
       "      <td>not applicable</td>\n",
       "      <td>11/18/22</td>\n",
       "      <td>not applicable</td>\n",
       "      <td>not applicable</td>\n",
       "      <td>0</td>\n",
       "      <td>banana_not applicable</td>\n",
       "    </tr>\n",
       "    <tr>\n",
       "      <th>mrmst_fecal_42.mzML</th>\n",
       "      <td>MSV000090940</td>\n",
       "      <td>animal</td>\n",
       "      <td>biofluid</td>\n",
       "      <td>9483|Callithrix jacchus</td>\n",
       "      <td>2022</td>\n",
       "      <td>solid material, fresh</td>\n",
       "      <td>methanol-water (1:1)</td>\n",
       "      <td>sulfadimethoxine</td>\n",
       "      <td>Q Exactive|MS:1001911</td>\n",
       "      <td>electrospray ionization (positive)</td>\n",
       "      <td>...</td>\n",
       "      <td>not applicable</td>\n",
       "      <td>UBERON:0001988</td>\n",
       "      <td>not applicable</td>\n",
       "      <td>bane</td>\n",
       "      <td>B</td>\n",
       "      <td>9/14/21</td>\n",
       "      <td>not applicable</td>\n",
       "      <td>not applicable</td>\n",
       "      <td>0</td>\n",
       "      <td>bane _not applicable</td>\n",
       "    </tr>\n",
       "  </tbody>\n",
       "</table>\n",
       "<p>5 rows × 36 columns</p>\n",
       "</div>"
      ],
      "text/plain": [
       "                       MASSIVE-ID SampleType       SampleTypeSub1  \\\n",
       "sample-id                                                           \n",
       "mrmst_fecal_33.mzML  MSV000090940     animal             biofluid   \n",
       "mrmst_food_10.mzML   MSV000090940       food  food_source_complex   \n",
       "mrmst_food_19.mzML   MSV000090940       food  food_source_complex   \n",
       "mrmst_food_05.mzML   MSV000090940       food  food_source_complex   \n",
       "mrmst_fecal_42.mzML  MSV000090940     animal             biofluid   \n",
       "\n",
       "                                NCBITaxonomy  YearOfAnalysis  \\\n",
       "sample-id                                                      \n",
       "mrmst_fecal_33.mzML  9483|Callithrix jacchus            2022   \n",
       "mrmst_food_10.mzML           not applicable             2022   \n",
       "mrmst_food_19.mzML           not applicable             2022   \n",
       "mrmst_food_05.mzML           not applicable             2022   \n",
       "mrmst_fecal_42.mzML  9483|Callithrix jacchus            2022   \n",
       "\n",
       "                    SampleCollectionMethod SampleExtractionMethod  \\\n",
       "sample-id                                                           \n",
       "mrmst_fecal_33.mzML  solid material, fresh   methanol-water (1:1)   \n",
       "mrmst_food_10.mzML   solid material, fresh   methanol-water (1:1)   \n",
       "mrmst_food_19.mzML   solid material, fresh   methanol-water (1:1)   \n",
       "mrmst_food_05.mzML   solid material, fresh   methanol-water (1:1)   \n",
       "mrmst_fecal_42.mzML  solid material, fresh   methanol-water (1:1)   \n",
       "\n",
       "                    InternalStandardsUsed       MassSpectrometer  \\\n",
       "sample-id                                                          \n",
       "mrmst_fecal_33.mzML      sulfadimethoxine  Q Exactive|MS:1001911   \n",
       "mrmst_food_10.mzML       sulfadimethoxine  Q Exactive|MS:1001911   \n",
       "mrmst_food_19.mzML       sulfadimethoxine  Q Exactive|MS:1001911   \n",
       "mrmst_food_05.mzML       sulfadimethoxine  Q Exactive|MS:1001911   \n",
       "mrmst_fecal_42.mzML      sulfadimethoxine  Q Exactive|MS:1001911   \n",
       "\n",
       "                            IonizationSourceAndPolarity  ...       LifeStage  \\\n",
       "sample-id                                                ...                   \n",
       "mrmst_fecal_33.mzML  electrospray ionization (positive)  ...  not applicable   \n",
       "mrmst_food_10.mzML   electrospray ionization (positive)  ...  not applicable   \n",
       "mrmst_food_19.mzML   electrospray ionization (positive)  ...  not applicable   \n",
       "mrmst_food_05.mzML   electrospray ionization (positive)  ...  not applicable   \n",
       "mrmst_fecal_42.mzML  electrospray ionization (positive)  ...  not applicable   \n",
       "\n",
       "                    UBERONOntologyIndex DOIDOntologyIndex ATTRIBUTE_tube_id   \\\n",
       "sample-id                                                                      \n",
       "mrmst_fecal_33.mzML      UBERON:0001988    not applicable             gadget   \n",
       "mrmst_food_10.mzML       not applicable    not applicable              apple   \n",
       "mrmst_food_19.mzML       not applicable    not applicable          baby food   \n",
       "mrmst_food_05.mzML       not applicable    not applicable             banana   \n",
       "mrmst_fecal_42.mzML      UBERON:0001988    not applicable              bane    \n",
       "\n",
       "                    ATTRIBUTE_tube_id_initials ATTRIBUTE_date collected   \\\n",
       "sample-id                                                                  \n",
       "mrmst_fecal_33.mzML                          G                   9/21/21   \n",
       "mrmst_food_10.mzML             not applicable                    11/1/22   \n",
       "mrmst_food_19.mzML             not applicable                    11/1/22   \n",
       "mrmst_food_05.mzML             not applicable                   11/18/22   \n",
       "mrmst_fecal_42.mzML                          B                   9/14/21   \n",
       "\n",
       "                    ATTRIBUTE_collection_timepoint  \\\n",
       "sample-id                                            \n",
       "mrmst_fecal_33.mzML                 not applicable   \n",
       "mrmst_food_10.mzML                  not applicable   \n",
       "mrmst_food_19.mzML                  not applicable   \n",
       "mrmst_food_05.mzML                  not applicable   \n",
       "mrmst_fecal_42.mzML                 not applicable   \n",
       "\n",
       "                    ATTRIBUTE_collection_timepoint_number timepoint_number  \\\n",
       "sample-id                                                                    \n",
       "mrmst_fecal_33.mzML                        not applicable                0   \n",
       "mrmst_food_10.mzML                         not applicable                0   \n",
       "mrmst_food_19.mzML                         not applicable                0   \n",
       "mrmst_food_05.mzML                         not applicable                0   \n",
       "mrmst_fecal_42.mzML                        not applicable                0   \n",
       "\n",
       "                                   marm_group  \n",
       "sample-id                                      \n",
       "mrmst_fecal_33.mzML   (gadget)_not applicable  \n",
       "mrmst_food_10.mzML       apple_not applicable  \n",
       "mrmst_food_19.mzML   baby_food_not applicable  \n",
       "mrmst_food_05.mzML      banana_not applicable  \n",
       "mrmst_fecal_42.mzML      bane _not applicable  \n",
       "\n",
       "[5 rows x 36 columns]"
      ]
     },
     "execution_count": 144,
     "metadata": {},
     "output_type": "execute_result"
    }
   ],
   "source": [
    "md = pd.read_csv('../data/Metabolomics/animal/ctf_metadata.tsv', sep='\\t',index_col=0)\n",
    "md.head()"
   ]
  },
  {
   "cell_type": "code",
   "execution_count": 145,
   "id": "6a95fe8f",
   "metadata": {},
   "outputs": [
    {
     "data": {
      "text/html": [
       "<div>\n",
       "<style scoped>\n",
       "    .dataframe tbody tr th:only-of-type {\n",
       "        vertical-align: middle;\n",
       "    }\n",
       "\n",
       "    .dataframe tbody tr th {\n",
       "        vertical-align: top;\n",
       "    }\n",
       "\n",
       "    .dataframe thead th {\n",
       "        text-align: right;\n",
       "    }\n",
       "</style>\n",
       "<table border=\"1\" class=\"dataframe\">\n",
       "  <thead>\n",
       "    <tr style=\"text-align: right;\">\n",
       "      <th></th>\n",
       "      <th>SampleType</th>\n",
       "      <th>SampleTypeSub1</th>\n",
       "      <th>ATTRIBUTE_tube_id_initials</th>\n",
       "      <th>ATTRIBUTE_collection_timepoint</th>\n",
       "    </tr>\n",
       "    <tr>\n",
       "      <th>marm_group</th>\n",
       "      <th></th>\n",
       "      <th></th>\n",
       "      <th></th>\n",
       "      <th></th>\n",
       "    </tr>\n",
       "  </thead>\n",
       "  <tbody>\n",
       "    <tr>\n",
       "      <th>tammy_not applicable</th>\n",
       "      <td>animal</td>\n",
       "      <td>biofluid</td>\n",
       "      <td>T</td>\n",
       "      <td>not applicable</td>\n",
       "    </tr>\n",
       "    <tr>\n",
       "      <th>toph_not applicable</th>\n",
       "      <td>animal</td>\n",
       "      <td>biofluid</td>\n",
       "      <td>T</td>\n",
       "      <td>not applicable</td>\n",
       "    </tr>\n",
       "    <tr>\n",
       "      <th>trail_mix _not applicable</th>\n",
       "      <td>food</td>\n",
       "      <td>food_source_complex</td>\n",
       "      <td>not applicable</td>\n",
       "      <td>not applicable</td>\n",
       "    </tr>\n",
       "    <tr>\n",
       "      <th>yogurt_drops _not applicable</th>\n",
       "      <td>food</td>\n",
       "      <td>food_source_complex</td>\n",
       "      <td>not applicable</td>\n",
       "      <td>not applicable</td>\n",
       "    </tr>\n",
       "    <tr>\n",
       "      <th>yogurt_not applicable</th>\n",
       "      <td>food</td>\n",
       "      <td>food_source_complex</td>\n",
       "      <td>not applicable</td>\n",
       "      <td>not applicable</td>\n",
       "    </tr>\n",
       "  </tbody>\n",
       "</table>\n",
       "</div>"
      ],
      "text/plain": [
       "                             SampleType       SampleTypeSub1  \\\n",
       "marm_group                                                     \n",
       "tammy_not applicable             animal             biofluid   \n",
       "toph_not applicable              animal             biofluid   \n",
       "trail_mix _not applicable          food  food_source_complex   \n",
       "yogurt_drops _not applicable       food  food_source_complex   \n",
       "yogurt_not applicable              food  food_source_complex   \n",
       "\n",
       "                             ATTRIBUTE_tube_id_initials  \\\n",
       "marm_group                                                \n",
       "tammy_not applicable                                  T   \n",
       "toph_not applicable                                   T   \n",
       "trail_mix _not applicable               not applicable    \n",
       "yogurt_drops _not applicable            not applicable    \n",
       "yogurt_not applicable                   not applicable    \n",
       "\n",
       "                             ATTRIBUTE_collection_timepoint  \n",
       "marm_group                                                   \n",
       "tammy_not applicable                         not applicable  \n",
       "toph_not applicable                          not applicable  \n",
       "trail_mix _not applicable                    not applicable  \n",
       "yogurt_drops _not applicable                 not applicable  \n",
       "yogurt_not applicable                        not applicable  "
      ]
     },
     "execution_count": 145,
     "metadata": {},
     "output_type": "execute_result"
    }
   ],
   "source": [
    "md2 = md.groupby(['marm_group']).agg({\n",
    "    'SampleType': 'first',\n",
    "    'SampleTypeSub1': 'first',\n",
    "    'ATTRIBUTE_tube_id_initials': 'first',\n",
    "    'ATTRIBUTE_collection_timepoint': 'first'\n",
    "})\n",
    "\n",
    "md2.tail()"
   ]
  },
  {
   "cell_type": "code",
   "execution_count": 146,
   "id": "e0bd3c85",
   "metadata": {},
   "outputs": [
    {
     "data": {
      "text/html": [
       "<div>\n",
       "<style scoped>\n",
       "    .dataframe tbody tr th:only-of-type {\n",
       "        vertical-align: middle;\n",
       "    }\n",
       "\n",
       "    .dataframe tbody tr th {\n",
       "        vertical-align: top;\n",
       "    }\n",
       "\n",
       "    .dataframe thead th {\n",
       "        text-align: right;\n",
       "    }\n",
       "</style>\n",
       "<table border=\"1\" class=\"dataframe\">\n",
       "  <thead>\n",
       "    <tr style=\"text-align: right;\">\n",
       "      <th></th>\n",
       "      <th>SampleType</th>\n",
       "      <th>SampleTypeSub1</th>\n",
       "      <th>ATTRIBUTE_tube_id_initials</th>\n",
       "      <th>ATTRIBUTE_collection_timepoint</th>\n",
       "    </tr>\n",
       "    <tr>\n",
       "      <th>#SampleID</th>\n",
       "      <th></th>\n",
       "      <th></th>\n",
       "      <th></th>\n",
       "      <th></th>\n",
       "    </tr>\n",
       "  </thead>\n",
       "  <tbody>\n",
       "    <tr>\n",
       "      <th>(gadget)_not applicable</th>\n",
       "      <td>animal</td>\n",
       "      <td>biofluid</td>\n",
       "      <td>G</td>\n",
       "      <td>not applicable</td>\n",
       "    </tr>\n",
       "    <tr>\n",
       "      <th>Pool_QC_01_not applicable</th>\n",
       "      <td>not applicable</td>\n",
       "      <td>not applicable</td>\n",
       "      <td>not applicable</td>\n",
       "      <td>not applicable</td>\n",
       "    </tr>\n",
       "    <tr>\n",
       "      <th>Pool_QC_02_not applicable</th>\n",
       "      <td>not applicable</td>\n",
       "      <td>not applicable</td>\n",
       "      <td>not applicable</td>\n",
       "      <td>not applicable</td>\n",
       "    </tr>\n",
       "    <tr>\n",
       "      <th>Pool_QC_03_not applicable</th>\n",
       "      <td>not applicable</td>\n",
       "      <td>not applicable</td>\n",
       "      <td>not applicable</td>\n",
       "      <td>not applicable</td>\n",
       "    </tr>\n",
       "    <tr>\n",
       "      <th>Pool_QC_04_not applicable</th>\n",
       "      <td>not applicable</td>\n",
       "      <td>not applicable</td>\n",
       "      <td>not applicable</td>\n",
       "      <td>not applicable</td>\n",
       "    </tr>\n",
       "    <tr>\n",
       "      <th>...</th>\n",
       "      <td>...</td>\n",
       "      <td>...</td>\n",
       "      <td>...</td>\n",
       "      <td>...</td>\n",
       "    </tr>\n",
       "    <tr>\n",
       "      <th>tammy_not applicable</th>\n",
       "      <td>animal</td>\n",
       "      <td>biofluid</td>\n",
       "      <td>T</td>\n",
       "      <td>not applicable</td>\n",
       "    </tr>\n",
       "    <tr>\n",
       "      <th>toph_not applicable</th>\n",
       "      <td>animal</td>\n",
       "      <td>biofluid</td>\n",
       "      <td>T</td>\n",
       "      <td>not applicable</td>\n",
       "    </tr>\n",
       "    <tr>\n",
       "      <th>trail_mix _not applicable</th>\n",
       "      <td>food</td>\n",
       "      <td>food_source_complex</td>\n",
       "      <td>not applicable</td>\n",
       "      <td>not applicable</td>\n",
       "    </tr>\n",
       "    <tr>\n",
       "      <th>yogurt_drops _not applicable</th>\n",
       "      <td>food</td>\n",
       "      <td>food_source_complex</td>\n",
       "      <td>not applicable</td>\n",
       "      <td>not applicable</td>\n",
       "    </tr>\n",
       "    <tr>\n",
       "      <th>yogurt_not applicable</th>\n",
       "      <td>food</td>\n",
       "      <td>food_source_complex</td>\n",
       "      <td>not applicable</td>\n",
       "      <td>not applicable</td>\n",
       "    </tr>\n",
       "  </tbody>\n",
       "</table>\n",
       "<p>67 rows × 4 columns</p>\n",
       "</div>"
      ],
      "text/plain": [
       "                                  SampleType       SampleTypeSub1  \\\n",
       "#SampleID                                                           \n",
       "(gadget)_not applicable               animal             biofluid   \n",
       "Pool_QC_01_not applicable     not applicable       not applicable   \n",
       "Pool_QC_02_not applicable     not applicable       not applicable   \n",
       "Pool_QC_03_not applicable     not applicable       not applicable   \n",
       "Pool_QC_04_not applicable     not applicable       not applicable   \n",
       "...                                      ...                  ...   \n",
       "tammy_not applicable                  animal             biofluid   \n",
       "toph_not applicable                   animal             biofluid   \n",
       "trail_mix _not applicable               food  food_source_complex   \n",
       "yogurt_drops _not applicable            food  food_source_complex   \n",
       "yogurt_not applicable                   food  food_source_complex   \n",
       "\n",
       "                             ATTRIBUTE_tube_id_initials  \\\n",
       "#SampleID                                                 \n",
       "(gadget)_not applicable                               G   \n",
       "Pool_QC_01_not applicable               not applicable    \n",
       "Pool_QC_02_not applicable               not applicable    \n",
       "Pool_QC_03_not applicable               not applicable    \n",
       "Pool_QC_04_not applicable               not applicable    \n",
       "...                                                 ...   \n",
       "tammy_not applicable                                  T   \n",
       "toph_not applicable                                   T   \n",
       "trail_mix _not applicable               not applicable    \n",
       "yogurt_drops _not applicable            not applicable    \n",
       "yogurt_not applicable                   not applicable    \n",
       "\n",
       "                             ATTRIBUTE_collection_timepoint  \n",
       "#SampleID                                                    \n",
       "(gadget)_not applicable                      not applicable  \n",
       "Pool_QC_01_not applicable                    not applicable  \n",
       "Pool_QC_02_not applicable                    not applicable  \n",
       "Pool_QC_03_not applicable                    not applicable  \n",
       "Pool_QC_04_not applicable                    not applicable  \n",
       "...                                                     ...  \n",
       "tammy_not applicable                         not applicable  \n",
       "toph_not applicable                          not applicable  \n",
       "trail_mix _not applicable                    not applicable  \n",
       "yogurt_drops _not applicable                 not applicable  \n",
       "yogurt_not applicable                        not applicable  \n",
       "\n",
       "[67 rows x 4 columns]"
      ]
     },
     "execution_count": 146,
     "metadata": {},
     "output_type": "execute_result"
    }
   ],
   "source": [
    "md2.index.name = '#SampleID'\n",
    "md2"
   ]
  },
  {
   "cell_type": "code",
   "execution_count": 148,
   "id": "c606737e",
   "metadata": {},
   "outputs": [],
   "source": [
    "md2.to_csv('../data/Metabolomics/animal/ctf-results/ctf_metadata.tsv', sep='\\t')"
   ]
  },
  {
   "cell_type": "code",
   "execution_count": 149,
   "id": "c4335a52",
   "metadata": {},
   "outputs": [
    {
     "name": "stdout",
     "output_type": "stream",
     "text": [
      "\u001b[32mSaved Visualization to: ../data/Metabolomics/animal/ctf-results/subject_biplot.qzv\u001b[0m\r\n",
      "\u001b[0m"
     ]
    }
   ],
   "source": [
    "!qiime emperor biplot\\\n",
    "    --i-biplot ../data/Metabolomics/animal/ctf-results/subject_biplot.qza \\\n",
    "    --m-sample-metadata-file ../data/Metabolomics/animal/ctf-results/ctf_metadata.tsv \\\n",
    "    --m-feature-metadata-file ../data/Metabolomics/metab-taxonomy.qza \\\n",
    "    --p-number-of-features 10 \\\n",
    "    --o-visualization ../data/Metabolomics/animal/ctf-results/subject_biplot.qzv"
   ]
  },
  {
   "cell_type": "code",
   "execution_count": 150,
   "id": "235d8be1",
   "metadata": {},
   "outputs": [
    {
     "name": "stdout",
     "output_type": "stream",
     "text": [
      "\u001b[32mSaved Visualization to: ../data/Metabolomics/animal/ctf-results/ctf_qurro.qzv\u001b[0m\n",
      "\u001b[0m"
     ]
    }
   ],
   "source": [
    "!qiime qurro loading-plot\\\n",
    "    --i-table ../data/Metabolomics/animal/RPCA/gemelli_filtered.qza \\\n",
    "    --i-ranks ../data/Metabolomics/animal/ctf-results/subject_biplot.qza \\\n",
    "    --m-sample-metadata-file ../data/Metabolomics/animal/ctf_metadata.tsv \\\n",
    "    --m-feature-metadata-file ../data/Metabolomics/metab-taxonomy.qza \\\n",
    "    --o-visualization ../data/Metabolomics/animal/ctf-results/ctf_qurro.qzv"
   ]
  },
  {
   "cell_type": "code",
   "execution_count": 152,
   "id": "048da449",
   "metadata": {},
   "outputs": [
    {
     "name": "stdout",
     "output_type": "stream",
     "text": [
      "\u001b[32mSaved Visualization to: ../data/Metabolomics/animal/ctf-results/state_subject_ordination.qzv\u001b[0m\n",
      "\u001b[0m"
     ]
    }
   ],
   "source": [
    "!qiime longitudinal volatility \\\n",
    "    --m-metadata-file ../data/Metabolomics/animal/ctf-results/state_subject_ordination.qza \\\n",
    "    --p-state-column timepoint_number \\\n",
    "    --p-individual-id-column ATTRIBUTE_tube_id \\\n",
    "    --p-default-group-column ATTRIBUTE_collection_timepoint \\\n",
    "    --p-default-metric PC1 \\\n",
    "    --o-visualization ../data/Metabolomics/animal/ctf-results/state_subject_ordination.qzv"
   ]
  },
  {
   "cell_type": "code",
   "execution_count": null,
   "id": "ba6a1167",
   "metadata": {},
   "outputs": [],
   "source": []
  }
 ],
 "metadata": {
  "kernelspec": {
   "display_name": "Python 3 (ipykernel)",
   "language": "python",
   "name": "python3"
  },
  "language_info": {
   "codemirror_mode": {
    "name": "ipython",
    "version": 3
   },
   "file_extension": ".py",
   "mimetype": "text/x-python",
   "name": "python",
   "nbconvert_exporter": "python",
   "pygments_lexer": "ipython3",
   "version": "3.8.16"
  }
 },
 "nbformat": 4,
 "nbformat_minor": 5
}
