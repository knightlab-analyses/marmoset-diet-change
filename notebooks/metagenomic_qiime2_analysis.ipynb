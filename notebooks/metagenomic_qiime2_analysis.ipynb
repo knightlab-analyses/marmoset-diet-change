{
 "cells": [
  {
   "cell_type": "markdown",
   "id": "0fc15dfd",
   "metadata": {},
   "source": [
    "### Open in Qiime2 Environment!\n",
    "#### This one was opened in qiime2-2023.2"
   ]
  },
  {
   "cell_type": "markdown",
   "id": "6e242c48",
   "metadata": {},
   "source": [
    "For reasons for filtering, look at marmoset_blank_investigation.ipynb to see the counts/DNA pooled ratios and the cutoff determined to be 3000."
   ]
  },
  {
   "cell_type": "code",
   "execution_count": 10,
   "id": "d4f1b01f",
   "metadata": {},
   "outputs": [
    {
     "name": "stdout",
     "output_type": "stream",
     "text": [
      "\u001b[32mSaved FeatureTable[Frequency] to: ../data/Microbiome/pool_filtered/3000_filt_ft.qza\u001b[0m\r\n",
      "\u001b[0m"
     ]
    }
   ],
   "source": [
    "!qiime feature-table filter-samples \\\n",
    "    --i-table ../data/Microbiome/14577_per_genome_feature-table_original.qza \\\n",
    "    --m-metadata-file ../data/Microbiome/14577_fixed.txt \\\n",
    "    --p-where \"[tube_id] IN ('363243300', 'BLANK.Marmoset.4.12H', 'BLANK.Marmoset.4.11B', 'BLANK.Marmoset.4.5D', 'BLANK.Marmoset.4.11G', 'BLANK.Marmoset.4.2G', 'BLANK.Marmoset.4.9D', '363243287', 'BLANK.Marmoset.4.5F', '363243250', '363243251', '363243251', '363243226', '363243226', 'BLANK.Marmoset.4.9F', 'BLANK.Marmoset.4.4E')\" \\\n",
    "    --p-exclude-ids True \\\n",
    "    --o-filtered-table ../data/Microbiome/pool_filtered/3000_filt_ft.qza"
   ]
  },
  {
   "cell_type": "code",
   "execution_count": 11,
   "id": "c10290f0",
   "metadata": {},
   "outputs": [
    {
     "name": "stdout",
     "output_type": "stream",
     "text": [
      "\u001b[32mSaved Visualization to: ../data/Microbiome/pool_filtered/3000_filt_summary.qzv\u001b[0m\n",
      "\u001b[0m"
     ]
    }
   ],
   "source": [
    "!qiime feature-table summarize \\\n",
    "    --i-table ../data/Microbiome/pool_filtered/3000_filt_ft.qza \\\n",
    "    --m-sample-metadata-file ../data/Microbiome/14577_fixed.txt \\\n",
    "    --o-visualization ../data/Microbiome/pool_filtered/3000_filt_summary.qzv"
   ]
  },
  {
   "cell_type": "code",
   "execution_count": 6,
   "id": "6a965c7e",
   "metadata": {},
   "outputs": [
    {
     "name": "stdout",
     "output_type": "stream",
     "text": [
      "\u001b[32mSaved DistanceMatrix to: ../data/Microbiome/pool_filtered/3000_filt_Aitchison_dm.qza\u001b[0m\n",
      "\u001b[0m\u001b[32mSaved PCoAResults to: ../data/Microbiome/pool_filtered/3000_filt_Aitchison_pcoa.qza\u001b[0m\n",
      "\u001b[0m\u001b[32mSaved Visualization to: ../data/Microbiome/pool_filtered/3000_filt_Aitchison_emp.qzv\u001b[0m\n",
      "\u001b[0m"
     ]
    }
   ],
   "source": [
    "!qiime diversity beta \\\n",
    "    --i-table ../data/Microbiome/pool_filtered/3000_filt_ft.qza   \\\n",
    "    --p-metric 'aitchison' \\\n",
    "    --o-distance-matrix ../data/Microbiome/pool_filtered/3000_filt_Aitchison_dm.qza \n",
    "\n",
    "!qiime diversity pcoa \\\n",
    "    --i-distance-matrix ../data/Microbiome/pool_filtered/3000_filt_Aitchison_dm.qza \\\n",
    "    --o-pcoa ../data/Microbiome/pool_filtered/3000_filt_Aitchison_pcoa.qza\n",
    "\n",
    "!qiime emperor plot \\\n",
    "    --i-pcoa ../data/Microbiome/pool_filtered/3000_filt_Aitchison_pcoa.qza \\\n",
    "    --m-metadata-file ../data/Microbiome/14577_fixed.txt \\\n",
    "    --o-visualization ../data/Microbiome/pool_filtered/3000_filt_Aitchison_emp.qzv"
   ]
  },
  {
   "cell_type": "code",
   "execution_count": 12,
   "id": "1c4b8cfa",
   "metadata": {},
   "outputs": [
    {
     "name": "stdout",
     "output_type": "stream",
     "text": [
      "\u001b[32mSaved FeatureTable[Frequency] to: ../data/Microbiome/pool_filtered/filt_165000rar_core_diversity/rarefied_table.qza\u001b[0m\n",
      "\u001b[32mSaved SampleData[AlphaDiversity] to: ../data/Microbiome/pool_filtered/filt_165000rar_core_diversity/faith_pd_vector.qza\u001b[0m\n",
      "\u001b[32mSaved SampleData[AlphaDiversity] to: ../data/Microbiome/pool_filtered/filt_165000rar_core_diversity/observed_features_vector.qza\u001b[0m\n",
      "\u001b[32mSaved SampleData[AlphaDiversity] to: ../data/Microbiome/pool_filtered/filt_165000rar_core_diversity/shannon_vector.qza\u001b[0m\n",
      "\u001b[32mSaved SampleData[AlphaDiversity] to: ../data/Microbiome/pool_filtered/filt_165000rar_core_diversity/evenness_vector.qza\u001b[0m\n",
      "\u001b[32mSaved DistanceMatrix to: ../data/Microbiome/pool_filtered/filt_165000rar_core_diversity/unweighted_unifrac_distance_matrix.qza\u001b[0m\n",
      "\u001b[32mSaved DistanceMatrix to: ../data/Microbiome/pool_filtered/filt_165000rar_core_diversity/weighted_unifrac_distance_matrix.qza\u001b[0m\n",
      "\u001b[32mSaved DistanceMatrix to: ../data/Microbiome/pool_filtered/filt_165000rar_core_diversity/jaccard_distance_matrix.qza\u001b[0m\n",
      "\u001b[32mSaved DistanceMatrix to: ../data/Microbiome/pool_filtered/filt_165000rar_core_diversity/bray_curtis_distance_matrix.qza\u001b[0m\n",
      "\u001b[32mSaved PCoAResults to: ../data/Microbiome/pool_filtered/filt_165000rar_core_diversity/unweighted_unifrac_pcoa_results.qza\u001b[0m\n",
      "\u001b[32mSaved PCoAResults to: ../data/Microbiome/pool_filtered/filt_165000rar_core_diversity/weighted_unifrac_pcoa_results.qza\u001b[0m\n",
      "\u001b[32mSaved PCoAResults to: ../data/Microbiome/pool_filtered/filt_165000rar_core_diversity/jaccard_pcoa_results.qza\u001b[0m\n",
      "\u001b[32mSaved PCoAResults to: ../data/Microbiome/pool_filtered/filt_165000rar_core_diversity/bray_curtis_pcoa_results.qza\u001b[0m\n",
      "\u001b[32mSaved Visualization to: ../data/Microbiome/pool_filtered/filt_165000rar_core_diversity/unweighted_unifrac_emperor.qzv\u001b[0m\n",
      "\u001b[32mSaved Visualization to: ../data/Microbiome/pool_filtered/filt_165000rar_core_diversity/weighted_unifrac_emperor.qzv\u001b[0m\n",
      "\u001b[32mSaved Visualization to: ../data/Microbiome/pool_filtered/filt_165000rar_core_diversity/jaccard_emperor.qzv\u001b[0m\n",
      "\u001b[32mSaved Visualization to: ../data/Microbiome/pool_filtered/filt_165000rar_core_diversity/bray_curtis_emperor.qzv\u001b[0m\n",
      "\u001b[0m"
     ]
    }
   ],
   "source": [
    "!qiime diversity core-metrics-phylogenetic \\\n",
    "    --i-table ../data/Microbiome/pool_filtered/3000_filt_ft.qza \\\n",
    "    --i-phylogeny ../../shotgun_scripts/woltka_v2_rooted_tree.qza \\\n",
    "    --p-sampling-depth 167000 \\\n",
    "    --m-metadata-file ../data/Microbiome/14577_fixed.txt \\\n",
    "    --output-dir ../data/Microbiome/pool_filtered/filt_167000rar_core_diversity"
   ]
  },
  {
   "cell_type": "code",
   "execution_count": 13,
   "id": "eedd43f8",
   "metadata": {},
   "outputs": [
    {
     "name": "stdout",
     "output_type": "stream",
     "text": [
      "\u001b[32mSaved Visualization to: ../data/Microbiome/pool_filtered/filt_165000rar_core_diversity/wUF_emp_timepoint.qzv\u001b[0m\n",
      "\u001b[0m"
     ]
    }
   ],
   "source": [
    "!qiime emperor plot \\\n",
    "    --i-pcoa ../data/Microbiome/pool_filtered/filt_165000rar_core_diversity/weighted_unifrac_pcoa_results.qza \\\n",
    "    --m-metadata-file ../data/Microbiome/14577_fixed.txt \\\n",
    "    --p-custom-axes timepoint_number \\\n",
    "    --o-visualization ../data/Microbiome/pool_filtered/filt_165000rar_core_diversity/wUF_emp_timepoint.qzv"
   ]
  },
  {
   "cell_type": "code",
   "execution_count": 4,
   "id": "61f98c99",
   "metadata": {},
   "outputs": [
    {
     "name": "stdout",
     "output_type": "stream",
     "text": [
      "\u001b[32mSaved Visualization to: ../data/Microbiome/pool_filtered_pergenome/filt_165000rar_core_diversity/wUF_PrePost_bsig.qzv\u001b[0m\r\n",
      "\u001b[0m"
     ]
    }
   ],
   "source": [
    "!qiime diversity beta-group-significance \\\n",
    "    --i-distance-matrix ../data/Microbiome/pool_filtered_pergenome/filt_165000rar_core_diversity/weighted_unifrac_distance_matrix.qza \\\n",
    "    --m-metadata-file ../data/Microbiome/14577_fixed.txt \\\n",
    "    --m-metadata-column Pre_Post \\\n",
    "    --o-visualization ../data/Microbiome/pool_filtered_pergenome/filt_165000rar_core_diversity/wUF_PrePost_bsig.qzv"
   ]
  },
  {
   "cell_type": "code",
   "execution_count": 5,
   "id": "926e8a12",
   "metadata": {},
   "outputs": [
    {
     "name": "stdout",
     "output_type": "stream",
     "text": [
      "\u001b[32mSaved Visualization to: ../data/Microbiome/pool_filtered_pergenome/filt_165000rar_core_diversity/wUF_colTP_bsig.qzv\u001b[0m\r\n",
      "\u001b[0m"
     ]
    }
   ],
   "source": [
    "!qiime diversity beta-group-significance \\\n",
    "    --i-distance-matrix ../data/Microbiome/pool_filtered_pergenome/filt_165000rar_core_diversity/weighted_unifrac_distance_matrix.qza \\\n",
    "    --m-metadata-file ../data/Microbiome/14577_fixed.txt \\\n",
    "    --m-metadata-column collection_timepoint \\\n",
    "    --p-pairwise True \\\n",
    "    --o-visualization ../data/Microbiome/pool_filtered_pergenome/filt_165000rar_core_diversity/wUF_colTP_bsig.qzv"
   ]
  },
  {
   "cell_type": "code",
   "execution_count": 17,
   "id": "47c4a35a",
   "metadata": {},
   "outputs": [
    {
     "name": "stdout",
     "output_type": "stream",
     "text": [
      "/opt/anaconda3/envs/qiime2-2023.2/lib/python3.8/site-packages/qiime2/core/cache.py:435: UserWarning: Your temporary cache was found to be in an inconsistent state. It has been recreated.\n",
      "  warnings.warn(\n",
      "\u001b[32mSaved PCoAResults to: ../data/Microbiome/pool_filtered_pergenome/filt_165000rar_core_diversity/wUF_UMAP_defaults.qza\u001b[0m\n",
      "\u001b[0m"
     ]
    }
   ],
   "source": [
    "!qiime diversity umap \\\n",
    "    --i-distance-matrix ../data/Microbiome/pool_filtered_pergenome/filt_165000rar_core_diversity/weighted_unifrac_distance_matrix.qza \\\n",
    "    --p-random-state 2023 \\\n",
    "    --o-umap ../data/Microbiome/pool_filtered_pergenome/filt_165000rar_core_diversity/wUF_UMAP_defaults.qza"
   ]
  },
  {
   "cell_type": "code",
   "execution_count": 18,
   "id": "0f42717e",
   "metadata": {},
   "outputs": [
    {
     "name": "stdout",
     "output_type": "stream",
     "text": [
      "\u001b[32mSaved Visualization to: ../data/Microbiome/pool_filtered_pergenome/filt_165000rar_core_diversity/wUF_UMAP_emp.qzv\u001b[0m\n",
      "\u001b[0m"
     ]
    }
   ],
   "source": [
    "!qiime emperor plot \\\n",
    "    --i-pcoa ../data/Microbiome/pool_filtered_pergenome/filt_165000rar_core_diversity/wUF_UMAP_defaults.qza \\\n",
    "    --m-metadata-file ../data/Microbiome/14577_fixed.txt \\\n",
    "    --p-custom-axes timepoint_number \\\n",
    "    --o-visualization ../data/Microbiome/pool_filtered_pergenome/filt_165000rar_core_diversity/wUF_UMAP_emp.qzv"
   ]
  },
  {
   "cell_type": "markdown",
   "id": "6761daca",
   "metadata": {},
   "source": [
    "# RPCA"
   ]
  },
  {
   "cell_type": "markdown",
   "id": "91203f07",
   "metadata": {},
   "source": [
    "[From Dr. Cameron Martino's GitHub Tutorial](https://github.com/biocore/gemelli/blob/master/ipynb/tutorials/RPCA-moving-pictures.ipynb)\n",
    "\n",
    "Aitchison distance relies on log transforms (the log of an exponential taxon 1 is linear). However, it assumes there are no zeros. Robust Aitchison PCA solves this problem in two steps:\n",
    "\n",
    "1. Compostional preprocessing using the centered log ratio transform on only the non-zero values of the data (no pseudo count)\n",
    "\n",
    "2. Dimensionality reduction through Robust PCA on only the non-zero values of the data ( matrix completion).\n",
    "\n",
    "#### DO NOT RARIFY!\n",
    "##### ...but you should filter out poor samples and rare features"
   ]
  },
  {
   "cell_type": "markdown",
   "id": "e197298a",
   "metadata": {},
   "source": [
    "Our dataset has 82 samples and 4,232 features/OGU total\n",
    "\n",
    "These parameters are not completely clear to me:\n",
    "\n",
    "--p-min-feature-count  \"Minimum sum cutoff of features across all samples\" - is this the minimum number features/OGU a sample must have to be retained?\n",
    "\n",
    " --p-min-sample-count \"Minimum sum cutoff of sample across all features\" The value can be at minimum zero and should be a whole integer >500. - is this the minimum number of samples that a feature must be in to be retained? There is less than 500 samples in the moving pictures tutorial. Unclear.\n",
    " \n",
    " So, I will filter before running through gemelli and then use the defaults == 0"
   ]
  },
  {
   "cell_type": "code",
   "execution_count": 19,
   "id": "d431fb84",
   "metadata": {},
   "outputs": [
    {
     "name": "stdout",
     "output_type": "stream",
     "text": [
      "\u001b[32mSaved FeatureTable[Frequency] to: ../data/Microbiome/pool_filtered/RPCA/gemelli_filtered.qza\u001b[0m\n",
      "\u001b[0m"
     ]
    }
   ],
   "source": [
    "!qiime feature-table filter-features \\\n",
    "    --i-table ../data/Microbiome/pool_filtered/3000_filt_ft.qza \\#poor sequencing removed already\n",
    "    --p-min-frequency 820 \\#the min feature frequencey (all samples), checked summary qzv [10xsample# = 10x82 = 820]\n",
    "    --p-min-samples 41 \\#the min number of samples that a feature must be in to be retained [75% of 82 = 66, 50% of 82 = 41]\n",
    "    --o-filtered-table ../data/Microbiome/pool_filtered/RPCA/gemelli_filtered.qza"
   ]
  },
  {
   "cell_type": "code",
   "execution_count": 4,
   "id": "31178452",
   "metadata": {
    "scrolled": true
   },
   "outputs": [
    {
     "name": "stdout",
     "output_type": "stream",
     "text": [
      "\u001b[32mSaved PCoAResults % Properties('biplot') to: ../data/Microbiome/pool_filtered_pergenome/RPCA/RPCA_ordination.qza\u001b[0m\n",
      "\u001b[32mSaved DistanceMatrix to: ../data/Microbiome/pool_filtered_pergenome/RPCA/RPCA_distance.qza\u001b[0m\n",
      "\u001b[0m"
     ]
    }
   ],
   "source": [
    "!qiime gemelli auto-rpca \\\n",
    "    --i-table ../data/Microbiome/pool_filtered_pergenome/RPCA/gemelli_filtered.qza \\\n",
    "    --o-biplot ../data/Microbiome/pool_filtered_pergenome/RPCA/RPCA_ordination.qza \\\n",
    "    --o-distance-matrix ../data/Microbiome/pool_filtered_pergenome/RPCA/RPCA_distance.qza"
   ]
  },
  {
   "cell_type": "code",
   "execution_count": 5,
   "id": "565400ef",
   "metadata": {},
   "outputs": [
    {
     "name": "stdout",
     "output_type": "stream",
     "text": [
      "\u001b[32mSaved Visualization to: ../data/Microbiome/pool_filtered_pergenome/RPCA/RPCA_biplot.qzv\u001b[0m\n",
      "\u001b[0m"
     ]
    }
   ],
   "source": [
    "!qiime emperor biplot \\\n",
    "    --i-biplot ../data/Microbiome/pool_filtered_pergenome/RPCA/RPCA_ordination.qza \\\n",
    "    --m-sample-metadata-file ../data/Microbiome/14577_fixed.txt \\\n",
    "    --m-feature-metadata-file ../../shotgun_scripts/woltka_v2_taxonomy.qza \\\n",
    "    --p-number-of-features 5 \\\n",
    "    --o-visualization ../data/Microbiome/pool_filtered_pergenome/RPCA/RPCA_biplot.qzv"
   ]
  },
  {
   "cell_type": "code",
   "execution_count": 1,
   "id": "0be4ceae",
   "metadata": {},
   "outputs": [
    {
     "name": "stdout",
     "output_type": "stream",
     "text": [
      "\u001b[32mSaved Visualization to: ../data/Microbiome/pool_filtered_pergenome/RPCA/RPCA_timepoint_significance.qzv\u001b[0m\n",
      "\u001b[0m"
     ]
    }
   ],
   "source": [
    "!qiime diversity beta-group-significance \\\n",
    "    --i-distance-matrix ../data/Microbiome/pool_filtered_pergenome/RPCA/RPCA_distance.qza \\\n",
    "    --m-metadata-file ../data/Microbiome/14577_fixed.txt \\\n",
    "    --m-metadata-column collection_timepoint \\\n",
    "    --p-method permanova \\\n",
    "    --p-pairwise True \\\n",
    "    --o-visualization ../data/Microbiome/pool_filtered_pergenome/RPCA/RPCA_timepoint_significance.qzv"
   ]
  },
  {
   "cell_type": "code",
   "execution_count": 2,
   "id": "55cea1d1",
   "metadata": {},
   "outputs": [
    {
     "name": "stdout",
     "output_type": "stream",
     "text": [
      "\u001b[32mSaved Visualization to: ../data/Microbiome/pool_filtered_pergenome/RPCA/RPCA_marmosetid_significance.qzv\u001b[0m\r\n",
      "\u001b[0m"
     ]
    }
   ],
   "source": [
    "!qiime diversity beta-group-significance \\\n",
    "    --i-distance-matrix ../data/Microbiome/pool_filtered_pergenome/RPCA/RPCA_distance.qza \\\n",
    "    --m-metadata-file ../data/Microbiome/14577_fixed.txt \\\n",
    "    --m-metadata-column marmoset_id \\\n",
    "    --p-method permanova \\\n",
    "    --p-pairwise True \\\n",
    "    --o-visualization ../data/Microbiome/pool_filtered_pergenome/RPCA/RPCA_marmosetid_significance.qzv"
   ]
  },
  {
   "cell_type": "code",
   "execution_count": 3,
   "id": "beb5a4f6",
   "metadata": {},
   "outputs": [
    {
     "name": "stdout",
     "output_type": "stream",
     "text": [
      "\u001b[32mSaved Visualization to: ../data/Microbiome/pool_filtered_pergenome/RPCA/RPCA_PrePost_significance.qzv\u001b[0m\n",
      "\u001b[0m"
     ]
    }
   ],
   "source": [
    "!qiime diversity beta-group-significance \\\n",
    "    --i-distance-matrix ../data/Microbiome/pool_filtered_pergenome/RPCA/RPCA_distance.qza \\\n",
    "    --m-metadata-file ../data/Microbiome/14577_fixed.txt \\\n",
    "    --m-metadata-column Pre_Post \\\n",
    "    --p-method permanova \\\n",
    "    --o-visualization ../data/Microbiome/pool_filtered_pergenome/RPCA/RPCA_PrePost_significance.qzv"
   ]
  },
  {
   "cell_type": "code",
   "execution_count": 7,
   "id": "d8fb16a6",
   "metadata": {},
   "outputs": [
    {
     "name": "stdout",
     "output_type": "stream",
     "text": [
      "\u001b[32mSaved Visualization to: ../data/Microbiome/pool_filtered_pergenome/RPCA/RPCA_source_significance.qzv\u001b[0m\r\n",
      "\u001b[0m"
     ]
    }
   ],
   "source": [
    "!qiime diversity beta-group-significance \\\n",
    "    --i-distance-matrix ../data/Microbiome/pool_filtered_pergenome/RPCA/RPCA_distance.qza \\\n",
    "    --m-metadata-file ../data/Microbiome/14577_fixed.txt \\\n",
    "    --m-metadata-column source \\\n",
    "    --p-method permanova \\\n",
    "    --o-visualization ../data/Microbiome/pool_filtered_pergenome/RPCA/RPCA_source_significance.qzv"
   ]
  },
  {
   "cell_type": "code",
   "execution_count": 8,
   "id": "8461adc0",
   "metadata": {},
   "outputs": [
    {
     "name": "stdout",
     "output_type": "stream",
     "text": [
      "\u001b[32mSaved Visualization to: ../data/Microbiome/pool_filtered_pergenome//RPCA/RPCA_qurro_plot.qzv\u001b[0m\n",
      "\u001b[0m"
     ]
    }
   ],
   "source": [
    "!qiime qurro loading-plot \\\n",
    "    --i-ranks ../data/Microbiome/pool_filtered_pergenome/RPCA/RPCA_ordination.qza \\\n",
    "    --i-table ../data/Microbiome/pool_filtered_pergenome//RPCA/gemelli_filtered.qza \\\n",
    "    --m-sample-metadata-file ../data/Microbiome/14577_fixed.txt \\\n",
    "    --m-feature-metadata-file ../../shotgun_scripts/woltka_v2_taxonomy.qza \\\n",
    "    --o-visualization ../data/Microbiome/pool_filtered_pergenome//RPCA/RPCA_qurro_plot.qzv"
   ]
  },
  {
   "cell_type": "code",
   "execution_count": 100,
   "id": "ea495ae0",
   "metadata": {},
   "outputs": [],
   "source": [
    "# import log-ratio data\n",
    "metadata_one = pd.read_csv('../data/Microbiome/14577_fixed.txt',\n",
    "                           sep='\\t', index_col=0)\n",
    "# import rest of the metadata from qurro outputs\n",
    "metadata_two = pd.read_csv('../data/Microbiome/pool_filtered/RPCA/RPCA_qurro_lr_cllitrichos.copri.reuteri_Ecoli.Bfinegolii.Bstercoris.Pmassiliensis.tsv',\n",
    "                           sep='\\t', index_col=0)[['Current_Natural_Log_Ratio']]\n",
    "# merge the data\n",
    "log_ratio_metdata = pd.concat([metadata_two, metadata_one], axis=1)\n",
    "# ensure no duplicate columns\n",
    "log_ratio_metdata = log_ratio_metdata.dropna(subset=['Current_Natural_Log_Ratio'])\n",
    "# export in QIIME2 format\n",
    "log_ratio_metdata.index.name = '#SampleID'\n",
    "log_ratio_metdata.to_csv('../data/Microbiome/pool_filtered/RPCA/merged_6species_lr.tsv', sep='\\t')"
   ]
  },
  {
   "cell_type": "code",
   "execution_count": 101,
   "id": "7fee5cf2",
   "metadata": {},
   "outputs": [
    {
     "name": "stdout",
     "output_type": "stream",
     "text": [
      "\u001b[32mSaved Visualization to: ../data/Microbiome/pool_filtered/RPCA/fourgenera_lr_volatility_plot.qzv\u001b[0m\r\n",
      "\u001b[0m"
     ]
    }
   ],
   "source": [
    "!qiime longitudinal volatility \\\n",
    "    --m-metadata-file ../data/Microbiome/pool_filtered/RPCA/merged_4genera_lr.tsv \\\n",
    "    --p-state-column timepoint_number \\\n",
    "    --p-individual-id-column host_subject_id \\\n",
    "    --p-default-group-column collection_timepoint \\\n",
    "    --p-default-metric Current_Natural_Log_Ratio \\\n",
    "    --o-visualization ../data/Microbiome/pool_filtered/RPCA/fourgenera_lr_volatility_plot.qzv\n",
    "#metric must be numerical"
   ]
  },
  {
   "cell_type": "code",
   "execution_count": 102,
   "id": "79b0848e",
   "metadata": {},
   "outputs": [
    {
     "name": "stdout",
     "output_type": "stream",
     "text": [
      "\u001b[32mSaved Visualization to: ../data/Microbiome/pool_filtered/RPCA/sixspecies_lr_volatility_plot.qzv\u001b[0m\r\n",
      "\u001b[0m"
     ]
    }
   ],
   "source": [
    "!qiime longitudinal volatility \\\n",
    "    --m-metadata-file ../data/Microbiome/pool_filtered/RPCA/merged_6species_lr.tsv \\\n",
    "    --p-state-column timepoint_number \\\n",
    "    --p-individual-id-column host_subject_id \\\n",
    "    --p-default-group-column collection_timepoint \\\n",
    "    --p-default-metric Current_Natural_Log_Ratio \\\n",
    "    --o-visualization ../data/Microbiome/pool_filtered/RPCA/sixspecies_lr_volatility_plot.qzv"
   ]
  },
  {
   "cell_type": "code",
   "execution_count": 106,
   "id": "57b6b01c",
   "metadata": {},
   "outputs": [],
   "source": [
    "!qiime longitudinal linear-mixed-effects \\\n",
    "    --i-table ../data/Microbiome/pool_filtered/filt_165000rar_core_diversity/rarefied_relative_frequency_table.qza \\\n",
    "    --m-metadata-file ../data/Microbiome/pool_filtered/RPCA/merged_4genera_lr.tsv \\\n",
    "    --p-state-column timepoint_number \\\n",
    "    --p-individual-id-column host_subject_id \\\n",
    "    --p-group-columns collection_timepoint,source \\\n",
    "    --p-random-effects plate_id,taxon_id \\\n",
    "    --p-metric Current_Natural_Log_Ratio \\\n",
    "    --o-visualization ../data/Microbiome/pool_filtered/RPCA/fourgenera_lr_LME_plot.qzv\n",
    "\n",
    "# Submitted to cluster, used 16 threads, and needed 320GB to come up with this error:\n",
    "# Linear model will not compute due to singular matrix error. This may occur if input variables correlate closely or exhibit zero variance. Please check your input variables. Removing potential covariates may resolve this issue."
   ]
  },
  {
   "cell_type": "code",
   "execution_count": 107,
   "id": "a960c55d",
   "metadata": {},
   "outputs": [],
   "source": [
    "!qiime longitudinal linear-mixed-effects\\\n",
    "    --i-table ../data/Microbiome/pool_filtered/filt_165000rar_core_diversity/rarefied_relative_frequency_table.qza \\\n",
    "    --m-metadata-file ../data/Microbiome/pool_filtered/RPCA/merged_6species_lr.tsv \\\n",
    "    --p-state-column timepoint_number \\\n",
    "    --p-individual-id-column host_subject_id \\\n",
    "    --p-group-columns collection_timepoint,source \\\n",
    "    --p-random-effects plate_id,taxon_id \\\n",
    "    --p-metric Current_Natural_Log_Ratio \\\n",
    "    --o-visualization ../data/Microbiome/pool_filtered/RPCA/sixspecies_lr_LME_plot.qzv\n",
    "\n",
    "# Submitted to cluster, used 16 threads, and needed 340GB to come up with this error:\n",
    "#Linear model will not compute due to singular matrix error. This may occur if input variables correlate closely or exhibit zero variance. Please check your input variables. Removing potential covariates may resolve this issue."
   ]
  },
  {
   "cell_type": "code",
   "execution_count": 109,
   "id": "65b08f10",
   "metadata": {},
   "outputs": [
    {
     "name": "stdout",
     "output_type": "stream",
     "text": [
      "^C\r\n"
     ]
    }
   ],
   "source": [
    "!qiime longitudinal linear-mixed-effects\\\n",
    "    --i-table ../data/Microbiome/pool_filtered/filt_165000rar_core_diversity/rarefied_relative_frequency_table.qza \\\n",
    "    --m-metadata-file ../data/Microbiome/pool_filtered/RPCA/merged_6species_lr.tsv \\\n",
    "    --p-state-column timepoint_number \\\n",
    "    --p-individual-id-column host_subject_id \\\n",
    "    --p-group-columns collection_timepoint,source \\\n",
    "    --p-random-effects plate_id,taxon_id \\\n",
    "    --p-metric  G000157935 \\\n",
    "    --o-visualization ../data/Microbiome/pool_filtered/RPCA/Pcopri_lr_LME_plot.qzv\n",
    "#G000157935 = Prevotella copri\n",
    "\n",
    "# Submitted to cluster, used 16 threads, and needed 300GB to come up with this error:\n",
    "#Linear model will not compute due to singular matrix error. This may occur if input variables correlate closely or exhibit zero variance. Please check your input variables. Removing potential covariates may resolve this issue.\n",
    "\n",
    "#subsetted by collection_timepoint and source separately\n",
    "#collection timepoint had same error [300GB]\n",
    "#source\n",
    "##if that works do source_F, source_M to see if it makes a difference"
   ]
  },
  {
   "cell_type": "markdown",
   "id": "4806c3b0",
   "metadata": {},
   "source": [
    "# Phylo-RPCA"
   ]
  },
  {
   "cell_type": "code",
   "execution_count": 9,
   "id": "c3f9ab47",
   "metadata": {},
   "outputs": [
    {
     "name": "stdout",
     "output_type": "stream",
     "text": [
      "\u001b[32mSaved PCoAResults % Properties('biplot') to: ../data/Microbiome/pool_filtered_pergenome/RPCA/phyloRPCA-ordination.qza\u001b[0m\n",
      "\u001b[32mSaved DistanceMatrix to: ../data/Microbiome/pool_filtered_pergenome/RPCA/phyloRPCA-distance.qza\u001b[0m\n",
      "\u001b[32mSaved Phylogeny[Rooted] to: ../data/Microbiome/pool_filtered_pergenome//RPCA/phyloRPCA-tree.qza\u001b[0m\n",
      "\u001b[32mSaved FeatureTable[Frequency] to: ../data/Microbiome/pool_filtered_pergenome/RPCA/phyloRPCA-table.qza\u001b[0m\n",
      "\u001b[32mSaved FeatureData[Taxonomy] to: ../data/Microbiome/pool_filtered_pergenome/RPCA/phyloRPCA-taxonomy.qza\u001b[0m\n",
      "\u001b[0m"
     ]
    }
   ],
   "source": [
    "!qiime gemelli phylogenetic-rpca-with-taxonomy \\\n",
    "    --i-table ../data/Microbiome/pool_filtered_pergenome/RPCA/gemelli_filtered.qza \\\n",
    "    --i-phylogeny ../../shotgun_scripts/woltka_v2_rooted_tree.qza \\\n",
    "    --m-taxonomy-file ../../shotgun_scripts/woltka_v2_taxonomy.qza \\\n",
    "    --o-biplot ../data/Microbiome/pool_filtered_pergenome/RPCA/phyloRPCA-ordination.qza \\\n",
    "    --o-distance-matrix ../data/Microbiome/pool_filtered_pergenome/RPCA/phyloRPCA-distance.qza \\\n",
    "    --o-counts-by-node-tree ../data/Microbiome/pool_filtered_pergenome//RPCA/phyloRPCA-tree.qza \\\n",
    "    --o-counts-by-node ../data/Microbiome/pool_filtered_pergenome/RPCA/phyloRPCA-table.qza \\\n",
    "    --o-t2t-taxonomy ../data/Microbiome/pool_filtered_pergenome/RPCA/phyloRPCA-taxonomy.qza"
   ]
  },
  {
   "cell_type": "code",
   "execution_count": 11,
   "id": "2409325e",
   "metadata": {},
   "outputs": [
    {
     "name": "stdout",
     "output_type": "stream",
     "text": [
      "\u001b[32mSaved Visualization to: ../data/Microbiome/pool_filtered_pergenome/RPCA/phyloRPCA-empress.qzv\u001b[0m\n",
      "\u001b[0m"
     ]
    }
   ],
   "source": [
    "!qiime empress community-plot\\\n",
    "    --i-tree ../data/Microbiome/pool_filtered_pergenome/RPCA/phyloRPCA-tree.qza \\\n",
    "    --i-feature-table ../data/Microbiome/pool_filtered_pergenome/RPCA/phyloRPCA-table.qza \\\n",
    "    --i-pcoa ../data/Microbiome/pool_filtered_pergenome/RPCA/phyloRPCA-ordination.qza \\\n",
    "    --m-sample-metadata-file ../data/Microbiome/14577_fixed.txt \\\n",
    "    --m-feature-metadata-file ../data/Microbiome/pool_filtered_pergenome/RPCA/phyloRPCA-taxonomy.qza \\\n",
    "    --p-filter-missing-features \\\n",
    "    --p-number-of-features 10 \\\n",
    "    --o-visualization ../data/Microbiome/pool_filtered_pergenome/RPCA/phyloRPCA-empress.qzv"
   ]
  },
  {
   "cell_type": "code",
   "execution_count": 12,
   "id": "aaafba84",
   "metadata": {},
   "outputs": [
    {
     "name": "stdout",
     "output_type": "stream",
     "text": [
      "\u001b[32mSaved Visualization to: ../data/Microbiome/pool_filtered_pergenome/RPCA/phyloRPCA-timepoint_significance.qzv\u001b[0m\r\n",
      "\u001b[0m"
     ]
    }
   ],
   "source": [
    "!qiime diversity beta-group-significance \\\n",
    "    --i-distance-matrix ../data/Microbiome/pool_filtered_pergenome/RPCA/phyloRPCA-distance.qza \\\n",
    "    --m-metadata-file ../data/Microbiome/14577_fixed.txt \\\n",
    "    --m-metadata-column collection_timepoint \\\n",
    "    --p-method permanova \\\n",
    "    --o-visualization ../data/Microbiome/pool_filtered_pergenome/RPCA/phyloRPCA-timepoint_significance.qzv"
   ]
  },
  {
   "cell_type": "code",
   "execution_count": 13,
   "id": "2c0d40c3",
   "metadata": {},
   "outputs": [
    {
     "name": "stdout",
     "output_type": "stream",
     "text": [
      "\u001b[32mSaved Visualization to: ../data/Microbiome/pool_filtered_pergenome/RPCA/phyloRPCA-source_significance.qzv\u001b[0m\r\n",
      "\u001b[0m"
     ]
    }
   ],
   "source": [
    "!qiime diversity beta-group-significance \\\n",
    "    --i-distance-matrix ../data/Microbiome/pool_filtered_pergenome/RPCA/phyloRPCA-distance.qza \\\n",
    "    --m-metadata-file ../data/Microbiome/14577_fixed.txt \\\n",
    "    --m-metadata-column source \\\n",
    "    --p-method permanova \\\n",
    "    --o-visualization ../data/Microbiome/pool_filtered_pergenome/RPCA/phyloRPCA-source_significance.qzv"
   ]
  },
  {
   "cell_type": "code",
   "execution_count": 14,
   "id": "25b04987",
   "metadata": {},
   "outputs": [
    {
     "name": "stdout",
     "output_type": "stream",
     "text": [
      "\u001b[32mSaved Visualization to: ../data/Microbiome/pool_filtered_pergenome/RPCA/phyloRPCA-qurro_plot.qzv\u001b[0m\n",
      "\u001b[0m"
     ]
    }
   ],
   "source": [
    "!qiime qurro loading-plot \\\n",
    "    --i-ranks ../data/Microbiome/pool_filtered_pergenome/RPCA/phyloRPCA-ordination.qza \\\n",
    "    --i-table ../data/Microbiome/pool_filtered_pergenome/RPCA/phyloRPCA-table.qza \\\n",
    "    --m-sample-metadata-file ../data/Microbiome/14577_fixed.txt \\\n",
    "    --m-feature-metadata-file ../data/Microbiome/pool_filtered_pergenome/RPCA/phyloRPCA-taxonomy.qza \\\n",
    "    --o-visualization ../data/Microbiome/pool_filtered_pergenome/RPCA/phyloRPCA-qurro_plot.qzv"
   ]
  },
  {
   "cell_type": "code",
   "execution_count": 1,
   "id": "65cfeeeb",
   "metadata": {},
   "outputs": [
    {
     "name": "stdout",
     "output_type": "stream",
     "text": [
      "/opt/anaconda3/envs/qiime2-2023.2/lib/python3.8/site-packages/qiime2/core/cache.py:435: UserWarning: Your temporary cache was found to be in an inconsistent state. It has been recreated.\n",
      "  warnings.warn(\n",
      "\u001b[32mExported ../data/Microbiome/pool_filtered_pergenome/RPCA/phyloRPCA-ordination.qza as OrdinationDirectoryFormat to directory ../data/Microbiome/pool_filtered_pergenome/RPCA/phyloRPCA-ordination\u001b[0m\n",
      "\u001b[0m\u001b[32mExported ../data/Microbiome/pool_filtered_pergenome/RPCA/RPCA_ordination.qza as OrdinationDirectoryFormat to directory ../data/Microbiome/pool_filtered_pergenome/RPCA/RPCA_ordination\u001b[0m\n",
      "\u001b[0m"
     ]
    }
   ],
   "source": [
    "!qiime tools export \\\n",
    "    --input-path ../data/Microbiome/pool_filtered_pergenome/RPCA/phyloRPCA-ordination.qza \\\n",
    "    --output-path ../data/Microbiome/pool_filtered_pergenome/RPCA/phyloRPCA-ordination\n",
    "\n",
    "!qiime tools export \\\n",
    "    --input-path ../data/Microbiome/pool_filtered_pergenome/RPCA/RPCA_ordination.qza \\\n",
    "    --output-path ../data/Microbiome/pool_filtered_pergenome/RPCA/RPCA_ordination"
   ]
  },
  {
   "cell_type": "markdown",
   "id": "7d71290a",
   "metadata": {},
   "source": [
    "# CTF"
   ]
  },
  {
   "cell_type": "code",
   "execution_count": 2,
   "id": "5aaea5be",
   "metadata": {},
   "outputs": [
    {
     "name": "stdout",
     "output_type": "stream",
     "text": [
      "\u001b[32mSaved PCoAResults % Properties('biplot') to: ../data/Microbiome/pool_filtered/ctf-results/ctf-pairs/subject_biplot.qza\u001b[0m\n",
      "\u001b[32mSaved PCoAResults % Properties('biplot') to: ../data/Microbiome/pool_filtered/ctf-results/ctf-pairs/state_biplot.qza\u001b[0m\n",
      "\u001b[32mSaved DistanceMatrix to: ../data/Microbiome/pool_filtered/ctf-results/ctf-pairs/distance_matrix.qza\u001b[0m\n",
      "\u001b[32mSaved SampleData[SampleTrajectory] to: ../data/Microbiome/pool_filtered/ctf-results/ctf-pairs/state_subject_ordination.qza\u001b[0m\n",
      "\u001b[32mSaved FeatureData[FeatureTrajectory] to: ../data/Microbiome/pool_filtered/ctf-results/ctf-pairs/state_feature_ordination.qza\u001b[0m\n",
      "\u001b[0m"
     ]
    }
   ],
   "source": [
    "!qiime gemelli ctf \\\n",
    "    --i-table  ../data/Microbiome/pool_filtered_pergenome/RPCA/gemelli_filtered.qza \\\n",
    "    --m-sample-metadata-file ../data/Microbiome/pool_filtered_pergenome/ctf-results/14577_ctf_metadata_noT.txt \\\n",
    "    --m-feature-metadata-file ../../shotgun_scripts/woltka_v2_taxonomy.qza \\\n",
    "    --p-state-column timepoint_number \\\n",
    "    --p-individual-id-column pair_tp \\\n",
    "    --output-dir ../data/Microbiome/pool_filtered_pergenome/ctf-results/ctf-pairs"
   ]
  },
  {
   "cell_type": "code",
   "execution_count": 4,
   "id": "23516973",
   "metadata": {},
   "outputs": [],
   "source": [
    "import pandas as pd"
   ]
  },
  {
   "cell_type": "code",
   "execution_count": 13,
   "id": "afda9fd2",
   "metadata": {},
   "outputs": [],
   "source": [
    "md = pd.read_csv('../data/Microbiome/pool_filtered_pergenome/ctf-results/14577_ctf_metadata_noT.txt', sep='\\t',index_col=0)"
   ]
  },
  {
   "cell_type": "code",
   "execution_count": 19,
   "id": "bd5f9e50",
   "metadata": {},
   "outputs": [
    {
     "data": {
      "text/html": [
       "<div>\n",
       "<style scoped>\n",
       "    .dataframe tbody tr th:only-of-type {\n",
       "        vertical-align: middle;\n",
       "    }\n",
       "\n",
       "    .dataframe tbody tr th {\n",
       "        vertical-align: top;\n",
       "    }\n",
       "\n",
       "    .dataframe thead th {\n",
       "        text-align: right;\n",
       "    }\n",
       "</style>\n",
       "<table border=\"1\" class=\"dataframe\">\n",
       "  <thead>\n",
       "    <tr style=\"text-align: right;\">\n",
       "      <th></th>\n",
       "      <th>collection_timepoint</th>\n",
       "      <th>marmoset_id</th>\n",
       "    </tr>\n",
       "    <tr>\n",
       "      <th>pair_tp</th>\n",
       "      <th></th>\n",
       "      <th></th>\n",
       "    </tr>\n",
       "  </thead>\n",
       "  <tbody>\n",
       "    <tr>\n",
       "      <th>reba_chrome_Pre</th>\n",
       "      <td>Pre</td>\n",
       "      <td>reba_chrome</td>\n",
       "    </tr>\n",
       "    <tr>\n",
       "      <th>tammy_bane_Post</th>\n",
       "      <td>Post</td>\n",
       "      <td>tammy_bane</td>\n",
       "    </tr>\n",
       "    <tr>\n",
       "      <th>tammy_bane_Pre</th>\n",
       "      <td>Pre</td>\n",
       "      <td>tammy_bane</td>\n",
       "    </tr>\n",
       "    <tr>\n",
       "      <th>toph_kenny_Post</th>\n",
       "      <td>Post</td>\n",
       "      <td>toph_kenny</td>\n",
       "    </tr>\n",
       "    <tr>\n",
       "      <th>toph_kenny_Pre</th>\n",
       "      <td>Pre</td>\n",
       "      <td>toph_kenny</td>\n",
       "    </tr>\n",
       "  </tbody>\n",
       "</table>\n",
       "</div>"
      ],
      "text/plain": [
       "                collection_timepoint  marmoset_id\n",
       "pair_tp                                          \n",
       "reba_chrome_Pre                  Pre  reba_chrome\n",
       "tammy_bane_Post                 Post   tammy_bane\n",
       "tammy_bane_Pre                   Pre   tammy_bane\n",
       "toph_kenny_Post                 Post   toph_kenny\n",
       "toph_kenny_Pre                   Pre   toph_kenny"
      ]
     },
     "execution_count": 19,
     "metadata": {},
     "output_type": "execute_result"
    }
   ],
   "source": [
    "md2 = md.groupby(['pair_tp']).agg({'collection_timepoint':'first', 'marmoset_id':'first'})\n",
    "md2.tail()"
   ]
  },
  {
   "cell_type": "code",
   "execution_count": 20,
   "id": "49d8df87",
   "metadata": {},
   "outputs": [
    {
     "data": {
      "text/html": [
       "<div>\n",
       "<style scoped>\n",
       "    .dataframe tbody tr th:only-of-type {\n",
       "        vertical-align: middle;\n",
       "    }\n",
       "\n",
       "    .dataframe tbody tr th {\n",
       "        vertical-align: top;\n",
       "    }\n",
       "\n",
       "    .dataframe thead th {\n",
       "        text-align: right;\n",
       "    }\n",
       "</style>\n",
       "<table border=\"1\" class=\"dataframe\">\n",
       "  <thead>\n",
       "    <tr style=\"text-align: right;\">\n",
       "      <th></th>\n",
       "      <th>collection_timepoint</th>\n",
       "      <th>marmoset_id</th>\n",
       "    </tr>\n",
       "    <tr>\n",
       "      <th>#SampleID</th>\n",
       "      <th></th>\n",
       "      <th></th>\n",
       "    </tr>\n",
       "  </thead>\n",
       "  <tbody>\n",
       "    <tr>\n",
       "      <th>asami_beryl_Post</th>\n",
       "      <td>Post</td>\n",
       "      <td>asami_beryl</td>\n",
       "    </tr>\n",
       "    <tr>\n",
       "      <th>asami_beryl_Pre</th>\n",
       "      <td>Pre</td>\n",
       "      <td>asami_beryl</td>\n",
       "    </tr>\n",
       "    <tr>\n",
       "      <th>blank_notapplicable</th>\n",
       "      <td>notapplicable</td>\n",
       "      <td>blank</td>\n",
       "    </tr>\n",
       "    <tr>\n",
       "      <th>ellen_mac_Post</th>\n",
       "      <td>Post</td>\n",
       "      <td>ellen_mac</td>\n",
       "    </tr>\n",
       "    <tr>\n",
       "      <th>ellen_mac_Pre</th>\n",
       "      <td>Pre</td>\n",
       "      <td>ellen_mac</td>\n",
       "    </tr>\n",
       "    <tr>\n",
       "      <th>gadget_kirk_Post</th>\n",
       "      <td>Post</td>\n",
       "      <td>gadget_kirk</td>\n",
       "    </tr>\n",
       "    <tr>\n",
       "      <th>gadget_kirk_Pre</th>\n",
       "      <td>Pre</td>\n",
       "      <td>gadget_kirk</td>\n",
       "    </tr>\n",
       "    <tr>\n",
       "      <th>johnny_rene_Post</th>\n",
       "      <td>Post</td>\n",
       "      <td>johnny_rene</td>\n",
       "    </tr>\n",
       "    <tr>\n",
       "      <th>johnny_rene_Pre</th>\n",
       "      <td>Pre</td>\n",
       "      <td>johnny_rene</td>\n",
       "    </tr>\n",
       "    <tr>\n",
       "      <th>martina_abel_Post</th>\n",
       "      <td>Post</td>\n",
       "      <td>martina_abel</td>\n",
       "    </tr>\n",
       "    <tr>\n",
       "      <th>martina_abel_Pre</th>\n",
       "      <td>Pre</td>\n",
       "      <td>martina_abel</td>\n",
       "    </tr>\n",
       "    <tr>\n",
       "      <th>reba_chrome_Post</th>\n",
       "      <td>Post</td>\n",
       "      <td>reba_chrome</td>\n",
       "    </tr>\n",
       "    <tr>\n",
       "      <th>reba_chrome_Pre</th>\n",
       "      <td>Pre</td>\n",
       "      <td>reba_chrome</td>\n",
       "    </tr>\n",
       "    <tr>\n",
       "      <th>tammy_bane_Post</th>\n",
       "      <td>Post</td>\n",
       "      <td>tammy_bane</td>\n",
       "    </tr>\n",
       "    <tr>\n",
       "      <th>tammy_bane_Pre</th>\n",
       "      <td>Pre</td>\n",
       "      <td>tammy_bane</td>\n",
       "    </tr>\n",
       "    <tr>\n",
       "      <th>toph_kenny_Post</th>\n",
       "      <td>Post</td>\n",
       "      <td>toph_kenny</td>\n",
       "    </tr>\n",
       "    <tr>\n",
       "      <th>toph_kenny_Pre</th>\n",
       "      <td>Pre</td>\n",
       "      <td>toph_kenny</td>\n",
       "    </tr>\n",
       "  </tbody>\n",
       "</table>\n",
       "</div>"
      ],
      "text/plain": [
       "                    collection_timepoint   marmoset_id\n",
       "#SampleID                                             \n",
       "asami_beryl_Post                    Post   asami_beryl\n",
       "asami_beryl_Pre                      Pre   asami_beryl\n",
       "blank_notapplicable        notapplicable         blank\n",
       "ellen_mac_Post                      Post     ellen_mac\n",
       "ellen_mac_Pre                        Pre     ellen_mac\n",
       "gadget_kirk_Post                    Post   gadget_kirk\n",
       "gadget_kirk_Pre                      Pre   gadget_kirk\n",
       "johnny_rene_Post                    Post   johnny_rene\n",
       "johnny_rene_Pre                      Pre   johnny_rene\n",
       "martina_abel_Post                   Post  martina_abel\n",
       "martina_abel_Pre                     Pre  martina_abel\n",
       "reba_chrome_Post                    Post   reba_chrome\n",
       "reba_chrome_Pre                      Pre   reba_chrome\n",
       "tammy_bane_Post                     Post    tammy_bane\n",
       "tammy_bane_Pre                       Pre    tammy_bane\n",
       "toph_kenny_Post                     Post    toph_kenny\n",
       "toph_kenny_Pre                       Pre    toph_kenny"
      ]
     },
     "execution_count": 20,
     "metadata": {},
     "output_type": "execute_result"
    }
   ],
   "source": [
    "md2.index.name = '#SampleID'\n",
    "md2"
   ]
  },
  {
   "cell_type": "code",
   "execution_count": 22,
   "id": "c1f6ab77",
   "metadata": {},
   "outputs": [],
   "source": [
    "md2.to_csv('../data/Microbiome/pool_filtered_pergenome/ctf-results/ctf-pairs/ctf_ptp_metadata.tsv', sep='\\t')"
   ]
  },
  {
   "cell_type": "code",
   "execution_count": 23,
   "id": "858ecbc6",
   "metadata": {},
   "outputs": [
    {
     "name": "stdout",
     "output_type": "stream",
     "text": [
      "\u001b[32mSaved Visualization to: ../data/Microbiome/pool_filtered_pergenome/ctf-results/ctf-pairs/subject_biplot.qzv\u001b[0m\r\n",
      "\u001b[0m"
     ]
    }
   ],
   "source": [
    "!qiime emperor biplot\\\n",
    "    --i-biplot ../data/Microbiome/pool_filtered_pergenome/ctf-results/ctf-pairs/subject_biplot.qza \\\n",
    "    --m-sample-metadata-file ../data/Microbiome/pool_filtered_pergenome/ctf-results/ctf-pairs/ctf_ptp_metadata.tsv \\\n",
    "    --m-feature-metadata-file ../../shotgun_scripts/woltka_v2_taxonomy.qza \\\n",
    "    --p-number-of-features 15 \\\n",
    "    --o-visualization ../data/Microbiome/pool_filtered_pergenome/ctf-results/ctf-pairs/subject_biplot.qzv"
   ]
  },
  {
   "cell_type": "code",
   "execution_count": 38,
   "id": "8c84173d",
   "metadata": {},
   "outputs": [
    {
     "name": "stdout",
     "output_type": "stream",
     "text": [
      "\u001b[32mSaved Visualization to: ../data/Microbiome/pool_filtered/ctf-results/state_subject_ordination.qzv\u001b[0m\r\n",
      "\u001b[0m"
     ]
    }
   ],
   "source": [
    "!qiime longitudinal volatility \\\n",
    "    --m-metadata-file ../data/Microbiome/pool_filtered/ctf-results/state_subject_ordination.qza \\\n",
    "    --p-state-column timepoint_number \\\n",
    "    --p-individual-id-column host_subject_id \\\n",
    "    --p-default-group-column collection_timepoint \\\n",
    "    --p-default-metric PC1 \\\n",
    "    --o-visualization ../data/Microbiome/pool_filtered/ctf-results/state_subject_ordination.qzv"
   ]
  },
  {
   "cell_type": "code",
   "execution_count": 41,
   "id": "99a9756d",
   "metadata": {},
   "outputs": [
    {
     "name": "stdout",
     "output_type": "stream",
     "text": [
      "\u001b[32mSaved Visualization to: ../data/Microbiome/pool_filtered/ctf-results/qurro.qzv\u001b[0m\r\n",
      "\u001b[0m"
     ]
    }
   ],
   "source": [
    "!qiime qurro loading-plot\\\n",
    "    --i-table ../data/Microbiome/pool_filtered/RPCA/gemelli_filtered.qza \\\n",
    "    --i-ranks ../data/Microbiome/pool_filtered/ctf-results/subject_biplot.qza \\\n",
    "    --m-sample-metadata-file ../data/Microbiome/14577_fixed.txt \\\n",
    "    --m-feature-metadata-file ../../shotgun_scripts/woltka_v2_taxonomy.qza \\\n",
    "    --o-visualization ../data/Microbiome/pool_filtered/ctf-results/qurro.qzv"
   ]
  },
  {
   "cell_type": "code",
   "execution_count": 2,
   "id": "70a58f81",
   "metadata": {},
   "outputs": [
    {
     "name": "stdout",
     "output_type": "stream",
     "text": [
      "\u001b[32mSaved Visualization to: ../data/Microbiome/pool_filtered_pergenome/ctf-results/ctf-pairs/ctf_pairs_qurro.qzv\u001b[0m\n",
      "\u001b[0m"
     ]
    }
   ],
   "source": [
    "!qiime qurro loading-plot\\\n",
    "    --i-table ../data/Microbiome/pool_filtered_pergenome/RPCA/gemelli_filtered.qza \\\n",
    "    --i-ranks ../data/Microbiome/pool_filtered_pergenome/ctf-results/ctf-pairs/subject_biplot.qza \\\n",
    "    --m-sample-metadata-file ../data/Microbiome/pool_filtered_pergenome/ctf-results/14577_ctf_metadata_noT.txt \\\n",
    "    --m-feature-metadata-file ../../shotgun_scripts/woltka_v2_taxonomy.qza \\\n",
    "    --o-visualization ../data/Microbiome/pool_filtered_pergenome/ctf-results/ctf-pairs/ctf_pairs_qurro.qzv"
   ]
  },
  {
   "cell_type": "code",
   "execution_count": null,
   "id": "dcb943b3",
   "metadata": {},
   "outputs": [],
   "source": [
    "# import log-ratio data\n",
    "metadata_one = pd.read_csv('IBD-2538/data/metadata.tsv',\n",
    "                           sep='\\t', index_col=0)\n",
    "# import rest of the metadata from qurro outputs\n",
    "metadata_two = pd.read_csv('IBD-2538/ctf-results/sample_plot_data.tsv',\n",
    "                           sep='\\t', index_col=0)[['Current_Natural_Log_Ratio']]\n",
    "# merge the data\n",
    "log_ratio_metdata = pd.concat([metadata_two, metadata_one], axis=1)\n",
    "# ensure no duplicate columns\n",
    "log_ratio_metdata = log_ratio_metdata.dropna(subset=['Current_Natural_Log_Ratio'])\n",
    "# export in QIIME2 format\n",
    "log_ratio_metdata.index.name = '#SampleID'\n",
    "log_ratio_metdata.to_csv('IBD-2538/ctf-results/merged_sample_plot_data.tsv', sep='\\t')"
   ]
  },
  {
   "cell_type": "code",
   "execution_count": null,
   "id": "fcbe3132",
   "metadata": {},
   "outputs": [],
   "source": [
    "!qiime longitudinal volatility \\\n",
    "    --m-metadata-file ../data/Microbiome/pool_filtered/ctf-results/merged_sample_plot_data.tsv \\\n",
    "    --p-state-column timepoint_number \\\n",
    "    --p-individual-id-column host_subject_id \\\n",
    "    --p-default-group-column collection_timepoint \\\n",
    "    --p-default-metric Current_Natural_Log_Ratio \\\n",
    "    --o-visualization IBD-2538/ctf-results/log_ratio_plot.qzv"
   ]
  },
  {
   "cell_type": "code",
   "execution_count": null,
   "id": "3780f048",
   "metadata": {},
   "outputs": [],
   "source": [
    "!qiime longitudinal linear-mixed-effects\\\n",
    "    --m-metadata-file ../data/Microbiome/pool_filtered/ctf-results/merged_sample_plot_data.tsv \\\n",
    "    --p-state-column timepoint_number \\\n",
    "    --p-individual-id-column host_subject_id \\\n",
    "    --p-default-group-column collection_timepoint \\\n",
    "    --p-metric Current_Natural_Log_Ratio \\\n",
    "    --o-visualization ../data/Microbiome/pool_filtered/ctf-results/lme_log_ratio.qzv"
   ]
  },
  {
   "cell_type": "markdown",
   "id": "b6a48ccd",
   "metadata": {},
   "source": [
    "# Phylo-CTF"
   ]
  },
  {
   "cell_type": "code",
   "execution_count": 79,
   "id": "378cc3b5",
   "metadata": {},
   "outputs": [
    {
     "name": "stdout",
     "output_type": "stream",
     "text": [
      "\u001b[32mSaved FeatureTable[Frequency] to: ../data/Microbiome/pool_filtered/ctf-results/matched_table/filtered_table.qza\u001b[0m\r\n",
      "\u001b[32mSaved FeatureTable[Frequency] to: ../data/Microbiome/pool_filtered/ctf-results/matched_table/removed_table.qza\u001b[0m\r\n",
      "\u001b[0m"
     ]
    }
   ],
   "source": [
    "!qiime fragment-insertion filter-features \\\n",
    "    --i-table ../data/Microbiome/pool_filtered_pergenome/RPCA/gemelli_filtered.qza  \\\n",
    "    --i-tree ../../shotgun_scripts/woltka_v2_rooted_tree.qza  \\\n",
    "    --output-dir ../data/Microbiome/pool_filtered_pergenome/ctf-results/matched_table/"
   ]
  },
  {
   "cell_type": "code",
   "execution_count": 82,
   "id": "9964600c",
   "metadata": {},
   "outputs": [
    {
     "name": "stdout",
     "output_type": "stream",
     "text": [
      "\u001b[32mSaved PCoAResults % Properties('biplot') to: ../data/Microbiome/pool_filtered/ctf-results/phyloCTF/subject_biplot.qza\u001b[0m\n",
      "\u001b[32mSaved PCoAResults % Properties('biplot') to: ../data/Microbiome/pool_filtered/ctf-results/phyloCTF/state_biplot.qza\u001b[0m\n",
      "\u001b[32mSaved DistanceMatrix to: ../data/Microbiome/pool_filtered/ctf-results/phyloCTF/distance_matrix.qza\u001b[0m\n",
      "\u001b[32mSaved SampleData[SampleTrajectory] to: ../data/Microbiome/pool_filtered/ctf-results/phyloCTF/state_subject_ordination.qza\u001b[0m\n",
      "\u001b[32mSaved FeatureData[FeatureTrajectory] to: ../data/Microbiome/pool_filtered/ctf-results/phyloCTF/state_feature_ordination.qza\u001b[0m\n",
      "\u001b[32mSaved Phylogeny[Rooted] to: ../data/Microbiome/pool_filtered/ctf-results/phyloCTF/counts_by_node_tree.qza\u001b[0m\n",
      "\u001b[32mSaved FeatureTable[Frequency] to: ../data/Microbiome/pool_filtered/ctf-results/phyloCTF/counts_by_node.qza\u001b[0m\n",
      "\u001b[32mSaved FeatureData[Taxonomy] to: ../data/Microbiome/pool_filtered/ctf-results/phyloCTF/t2t_taxonomy.qza\u001b[0m\n",
      "\u001b[32mSaved FeatureTable[Frequency] to: ../data/Microbiome/pool_filtered/ctf-results/phyloCTF/subject_table.qza\u001b[0m\n",
      "\u001b[0m"
     ]
    }
   ],
   "source": [
    "!qiime gemelli phylogenetic-ctf-with-taxonomy \\\n",
    "    --i-table  ../data/Microbiome/pool_filtered_pergenome/ctf-results/matched_table/filtered_table.qza \\\n",
    "    --i-phylogeny  ../../shotgun_scripts/woltka_v2_rooted_tree.qza \\\n",
    "    --m-sample-metadata-file ../data/Microbiome/pool_filtered_pergenome/ctf-results/14577_ctf_metadata_noT.txt \\\n",
    "    --m-taxonomy-file ../../shotgun_scripts/woltka_v2_taxonomy.qza \\\n",
    "    --p-state-column timepoint_number \\\n",
    "    --p-individual-id-column pair_tp \\\n",
    "    --p-min-feature-frequency 10 \\\n",
    "    --output-dir ../data/Microbiome/pool_filtered_pergenome/ctf-results/phyloCTF\n",
    "#immediatelt pre/post?"
   ]
  },
  {
   "cell_type": "code",
   "execution_count": 110,
   "id": "7f5573bf",
   "metadata": {},
   "outputs": [],
   "source": [
    "#Songbird instead of DEICODE? No, because songbird is a pain in the ass to get to work. \n",
    "#Only likes qiime2-2020.6 and tensorflow is a pain to deal with. Forget it.\n",
    "\n",
    "!qiime songbird multinomial \\\n",
    "    --i-table ../data/Microbiome/pool_filtered/RPCA/gemelli_filtered.qza \\\n",
    "    --m-metadata-file ../data/Microbiome/pool_filtered/ctf-results/14577_ctf_metadata.txt \\\n",
    "    --p-formula \"marmoset_id*C(collection_timepoint, Treatment('Pre'))*diet\" \\\n",
    "    --p-epochs 10000 \\\n",
    "    --p-differential-prior 0.5 \\\n",
    "    --p-training-column Testing \\\n",
    "    --p-summary-interval 1 \\\n",
    "    --o-differentials ../data/Microbiome/pool_filtered/ctf-results/songbird/formula1_differentials.qza \\\n",
    "    --o-regression-stats ../data/Microbiome/pool_filtered/ctf-results/songbird/formula1_regression-stats.qza \\\n",
    "    --o-regression-biplot ../data/Microbiome/pool_filtered/ctf-results/songbird/formula1_regression-biplot.qza\n",
    "\n",
    "!qiime songbird multinomial \\\n",
    "    --i-table ../data/Microbiome/pool_filtered/RPCA/gemelli_filtered.qza \\\n",
    "    --m-metadata-file ../data/Microbiome/14577_fixed.txt \\\n",
    "    --p-formula \"1\" \\ #null model\n",
    "    --p-epochs 10000 \\\n",
    "    --p-differential-prior 0.5 \\\n",
    "    --p-training-column Testing \\\n",
    "    --p-summary-interval 1 \\\n",
    "    --o-differentials ../data/Microbiome/pool_filtered/ctf-results/songbird/null_differentials.qza \\\n",
    "    --o-regression-stats ../data/Microbiome/pool_filtered/ctf-results/songbird/null_regression-stats.qza \\\n",
    "    --o-regression-biplot ../data/Microbiome/pool_filtered/ctf-results/songbird/null_regression-biplot.qza"
   ]
  },
  {
   "cell_type": "code",
   "execution_count": null,
   "id": "43dedc8f",
   "metadata": {},
   "outputs": [],
   "source": [
    "import pandas as pd\n",
    "# first we import the metdata into pandas\n",
    "mf = pd.read_csv('../data/Microbiome/pool_filtered/ctf-results/14577_ctf_metadata_noT.txt', sep='\\t',index_col=0)\n",
    "# next we aggregate by subjects  and time and diet\n",
    "mf = mf.groupby('pair_tp').agg({'diet':'first', 'collection_timepoint':'first', 'marmoset_id':'first'})\n",
    "# now we save the metadata in QIIME2 format.\n",
    "mf.index.name = '#SampleID'\n",
    "mf.to_csv('../data/Microbiome/pool_filtered/ctf-results/subject-metadata_noT.tsv', sep='\\t')\n",
    "mf.tail(5)"
   ]
  },
  {
   "cell_type": "code",
   "execution_count": 83,
   "id": "62811679",
   "metadata": {},
   "outputs": [
    {
     "name": "stdout",
     "output_type": "stream",
     "text": [
      "\u001b[32mSaved Visualization to: ../data/Microbiome/pool_filtered/ctf-results/phyloCTF/empress.qzv\u001b[0m\n",
      "\u001b[0m"
     ]
    }
   ],
   "source": [
    "!qiime empress community-plot\\\n",
    "    --i-tree ../data/Microbiome/pool_filtered/ctf-results/phyloCTF/counts_by_node_tree.qza\\\n",
    "    --i-feature-table ../data/Microbiome/pool_filtered/ctf-results/phyloCTF/subject_table.qza\\\n",
    "    --i-pcoa ../data/Microbiome/pool_filtered/ctf-results/phyloCTF/subject_biplot.qza\\\n",
    "    --m-sample-metadata-file ../data/Microbiome/pool_filtered/ctf-results/subject-metadata_noT.tsv\\\n",
    "    --m-feature-metadata-file ../data/Microbiome/pool_filtered/ctf-results/phyloCTF/t2t_taxonomy.qza\\\n",
    "    --p-filter-missing-features\\\n",
    "    --p-number-of-features 50\\\n",
    "    --o-visualization ../data/Microbiome/pool_filtered/ctf-results/phyloCTF/empress.qzv"
   ]
  },
  {
   "cell_type": "code",
   "execution_count": 85,
   "id": "604f44ad",
   "metadata": {},
   "outputs": [
    {
     "name": "stdout",
     "output_type": "stream",
     "text": [
      "\u001b[32mSaved Visualization to: ../data/Microbiome/pool_filtered/ctf-results/qurro-results/phyloCTF_qurro.qza.qzv\u001b[0m\n",
      "\u001b[0m"
     ]
    }
   ],
   "source": [
    "!qiime qurro loading-plot\\\n",
    "    --i-ranks ../data/Microbiome/pool_filtered/ctf-results/phyloCTF/subject_biplot.qza\\\n",
    "    --i-table ../data/Microbiome/pool_filtered/ctf-results/phyloCTF/counts_by_node.qza\\\n",
    "    --m-sample-metadata-file ../data/Microbiome/pool_filtered/ctf-results/14577_ctf_metadata.txt\\\n",
    "    --m-feature-metadata-file  ../data/Microbiome/pool_filtered/ctf-results/phyloCTF/t2t_taxonomy.qza\\\n",
    "    --o-visualization ../data/Microbiome/pool_filtered/ctf-results/qurro-results/phyloCTF_qurro.qzv"
   ]
  },
  {
   "cell_type": "code",
   "execution_count": null,
   "id": "239cae6b",
   "metadata": {},
   "outputs": [],
   "source": [
    "import pandas as pd\n",
    "\n",
    "# import log-ratio data\n",
    "metadata_one = pd.read_csv('../data/Microbiome/pool_filtered/ctf-results/subject-metadata_noT.tsv',\n",
    "                           sep='\\t', index_col=0)\n",
    "# import rest of the metadata\n",
    "metadata_two = pd.read_csv('IBD-2538/ctf-results/sample_plot_data.tsv',\n",
    "                           sep='\\t', index_col=0)[['Current_Natural_Log_Ratio']]\n",
    "# merge the data\n",
    "log_ratio_metdata = pd.concat([metadata_two, metadata_one], axis=1)\n",
    "# ensure no duplicate columns\n",
    "log_ratio_metdata = log_ratio_metdata.dropna(subset=['Current_Natural_Log_Ratio'])\n",
    "log_ratio_metdata.index = log_ratio_metdata.index.astype(str)\n",
    "# export in QIIME2 format\n",
    "log_ratio_metdata = log_ratio_metdata[['timepoint','host_subject_id',\n",
    "                                       'ibd','Current_Natural_Log_Ratio']]\n",
    "\n",
    "log_ratio_metdata.index.name = '#SampleID'\n",
    "log_ratio_metdata.to_csv('IBD-2538/ctf-results/merged_sample_plot_data.tsv', sep='\\t')\n",
    "log_ratio_metdata.head(2)"
   ]
  },
  {
   "cell_type": "code",
   "execution_count": null,
   "id": "78400784",
   "metadata": {},
   "outputs": [],
   "source": [
    "!qiime longitudinal volatility \\\n",
    "    --m-metadata-file IBD-2538/ctf-results/merged_sample_plot_data.tsv\\\n",
    "    --p-state-column timepoint \\\n",
    "    --p-individual-id-column host_subject_id \\\n",
    "    --p-default-group-column ibd \\\n",
    "    --p-default-metric Current_Natural_Log_Ratio \\\n",
    "    --o-visualization IBD-2538/ctf-results/log_ratio_plot.qzv"
   ]
  },
  {
   "cell_type": "code",
   "execution_count": null,
   "id": "d42eda15",
   "metadata": {},
   "outputs": [],
   "source": [
    "!qiime longitudinal linear-mixed-effects\\\n",
    "    --m-metadata-file IBD-2538/ctf-results/merged_sample_plot_data.tsv\\\n",
    "    --p-state-column timepoint \\\n",
    "    --p-individual-id-column host_subject_id \\\n",
    "    --p-group-columns ibd \\\n",
    "    --p-metric Current_Natural_Log_Ratio \\\n",
    "    --o-visualization IBD-2538/ctf-results/lme_log_ratio.qzv"
   ]
  },
  {
   "cell_type": "markdown",
   "id": "e6fe10c0",
   "metadata": {},
   "source": [
    "# Individual Marmoset Pair RPCAs"
   ]
  },
  {
   "cell_type": "code",
   "execution_count": 114,
   "id": "5c74bfcf",
   "metadata": {},
   "outputs": [
    {
     "name": "stdout",
     "output_type": "stream",
     "text": [
      "\u001b[32mSaved FeatureTable[Frequency] to: ../data/Microbiome/pool_filtered_pergenome/RPCA/individual_marmosets/ellen_mac.qza\u001b[0m\n",
      "\u001b[0m\u001b[32mSaved FeatureTable[Frequency] to: ../data/Microbiome/pool_filtered_pergenome/RPCA/individual_marmosets/gadget_kirk.qza\u001b[0m\n",
      "\u001b[0m\u001b[32mSaved FeatureTable[Frequency] to: ../data/Microbiome/pool_filtered_pergenome/RPCA/individual_marmosets/asami_beryl.qza\u001b[0m\n",
      "\u001b[0m\u001b[32mSaved FeatureTable[Frequency] to: ../data/Microbiome/pool_filtered_pergenome/RPCA/individual_marmosets/johnny_rene.qza\u001b[0m\n",
      "\u001b[0m\u001b[32mSaved FeatureTable[Frequency] to: ../data/Microbiome/pool_filtered_pergenome/RPCA/individual_marmosets/martina_abel.qza\u001b[0m\n",
      "\u001b[0m\u001b[32mSaved FeatureTable[Frequency] to: ../data/Microbiome/pool_filtered_pergenome/RPCA/individual_marmosets/reba_chrome.qza\u001b[0m\n",
      "\u001b[0m\u001b[32mSaved FeatureTable[Frequency] to: ../data/Microbiome/pool_filtered_pergenome/RPCA/individual_marmosets/tammy_bane.qza\u001b[0m\n",
      "\u001b[0m\u001b[32mSaved FeatureTable[Frequency] to: ../data/Microbiome/pool_filtered_pergenome/RPCA/individual_marmosets/kenny_toph.qza\u001b[0m\n",
      "\u001b[0m"
     ]
    }
   ],
   "source": [
    "for x in ['ellen_mac', 'gadget_kirk', 'asami_beryl', 'johnny_rene',\n",
    "       'martina_abel', 'reba_chrome', 'tammy_bane', 'kenny_toph']:\n",
    "    !qiime feature-table filter-samples \\\n",
    "    --i-table ../data/Microbiome/pool_filtered_pergenome/RPCA/gemelli_filtered.qza \\\n",
    "    --m-metadata-file ../data/Microbiome/14577_fixed.txt \\\n",
    "    --p-where \"[marmoset_id] IN ('{x}')\" \\\n",
    "    --o-filtered-table ../data/Microbiome/pool_filtered_pergenome/RPCA/individual_marmosets/{x}.qza"
   ]
  },
  {
   "cell_type": "code",
   "execution_count": 115,
   "id": "b5255daf",
   "metadata": {},
   "outputs": [
    {
     "name": "stdout",
     "output_type": "stream",
     "text": [
      "\u001b[32mSaved PCoAResults % Properties('biplot') to: ../data/Microbiome/pool_filtered_pergenome/RPCA/ellen_mac_RPCA_ord.qza\u001b[0m\n",
      "\u001b[32mSaved DistanceMatrix to: ../data/Microbiome/pool_filtered_pergenome/RPCA/individual_marmosets/ellen_mac_RPCA_dm.qza\u001b[0m\n",
      "\u001b[0m\u001b[32mSaved PCoAResults % Properties('biplot') to: ../data/Microbiome/pool_filtered_pergenome/RPCA/gadget_kirk_RPCA_ord.qza\u001b[0m\n",
      "\u001b[32mSaved DistanceMatrix to: ../data/Microbiome/pool_filtered_pergenome/RPCA/individual_marmosets/gadget_kirk_RPCA_dm.qza\u001b[0m\n",
      "\u001b[0m\u001b[32mSaved PCoAResults % Properties('biplot') to: ../data/Microbiome/pool_filtered_pergenome/RPCA/asami_beryl_RPCA_ord.qza\u001b[0m\n",
      "\u001b[32mSaved DistanceMatrix to: ../data/Microbiome/pool_filtered_pergenome/RPCA/individual_marmosets/asami_beryl_RPCA_dm.qza\u001b[0m\n",
      "\u001b[0m\u001b[32mSaved PCoAResults % Properties('biplot') to: ../data/Microbiome/pool_filtered_pergenome/RPCA/johnny_rene_RPCA_ord.qza\u001b[0m\n",
      "\u001b[32mSaved DistanceMatrix to: ../data/Microbiome/pool_filtered_pergenome/RPCA/individual_marmosets/johnny_rene_RPCA_dm.qza\u001b[0m\n",
      "\u001b[0m\u001b[32mSaved PCoAResults % Properties('biplot') to: ../data/Microbiome/pool_filtered_pergenome/RPCA/martina_abel_RPCA_ord.qza\u001b[0m\n",
      "\u001b[32mSaved DistanceMatrix to: ../data/Microbiome/pool_filtered_pergenome/RPCA/individual_marmosets/martina_abel_RPCA_dm.qza\u001b[0m\n",
      "\u001b[0m\u001b[32mSaved PCoAResults % Properties('biplot') to: ../data/Microbiome/pool_filtered_pergenome/RPCA/reba_chrome_RPCA_ord.qza\u001b[0m\n",
      "\u001b[32mSaved DistanceMatrix to: ../data/Microbiome/pool_filtered_pergenome/RPCA/individual_marmosets/reba_chrome_RPCA_dm.qza\u001b[0m\n",
      "\u001b[0m\u001b[32mSaved PCoAResults % Properties('biplot') to: ../data/Microbiome/pool_filtered_pergenome/RPCA/tammy_bane_RPCA_ord.qza\u001b[0m\n",
      "\u001b[32mSaved DistanceMatrix to: ../data/Microbiome/pool_filtered_pergenome/RPCA/individual_marmosets/tammy_bane_RPCA_dm.qza\u001b[0m\n",
      "\u001b[0m\u001b[32mSaved PCoAResults % Properties('biplot') to: ../data/Microbiome/pool_filtered_pergenome/RPCA/kenny_toph_RPCA_ord.qza\u001b[0m\n",
      "\u001b[32mSaved DistanceMatrix to: ../data/Microbiome/pool_filtered_pergenome/RPCA/individual_marmosets/kenny_toph_RPCA_dm.qza\u001b[0m\n",
      "\u001b[0m"
     ]
    }
   ],
   "source": [
    "for x in ['ellen_mac', 'gadget_kirk', 'asami_beryl', 'johnny_rene',\n",
    "       'martina_abel', 'reba_chrome', 'tammy_bane', 'kenny_toph']:\n",
    "    !qiime gemelli auto-rpca \\\n",
    "    --i-table ../data/Microbiome/pool_filtered_pergenome/RPCA/individual_marmosets/{x}.qza \\\n",
    "    --o-biplot ../data/Microbiome/pool_filtered_pergenome/RPCA/{x}_RPCA_ord.qza \\\n",
    "    --o-distance-matrix ../data/Microbiome/pool_filtered_pergenome/RPCA/individual_marmosets/{x}_RPCA_dm.qza"
   ]
  },
  {
   "cell_type": "code",
   "execution_count": 116,
   "id": "f6bf64fc",
   "metadata": {},
   "outputs": [
    {
     "name": "stdout",
     "output_type": "stream",
     "text": [
      "\u001b[32mSaved Visualization to: ../data/Microbiome/pool_filtered_pergenome/RPCA/individual_marmosets/ellen_mac_RPCA_prepost_bsig.qzv\u001b[0m\n",
      "\u001b[0m\u001b[32mSaved Visualization to: ../data/Microbiome/pool_filtered_pergenome/RPCA/individual_marmosets/gadget_kirk_RPCA_prepost_bsig.qzv\u001b[0m\n",
      "\u001b[0m\u001b[32mSaved Visualization to: ../data/Microbiome/pool_filtered_pergenome/RPCA/individual_marmosets/asami_beryl_RPCA_prepost_bsig.qzv\u001b[0m\n",
      "\u001b[0m\u001b[32mSaved Visualization to: ../data/Microbiome/pool_filtered_pergenome/RPCA/individual_marmosets/johnny_rene_RPCA_prepost_bsig.qzv\u001b[0m\n",
      "\u001b[0m\u001b[32mSaved Visualization to: ../data/Microbiome/pool_filtered_pergenome/RPCA/individual_marmosets/martina_abel_RPCA_prepost_bsig.qzv\u001b[0m\n",
      "\u001b[0m\u001b[32mSaved Visualization to: ../data/Microbiome/pool_filtered_pergenome/RPCA/individual_marmosets/reba_chrome_RPCA_prepost_bsig.qzv\u001b[0m\n",
      "\u001b[0m\u001b[32mSaved Visualization to: ../data/Microbiome/pool_filtered_pergenome/RPCA/individual_marmosets/tammy_bane_RPCA_prepost_bsig.qzv\u001b[0m\n",
      "\u001b[0m\u001b[32mSaved Visualization to: ../data/Microbiome/pool_filtered_pergenome/RPCA/individual_marmosets/kenny_toph_RPCA_prepost_bsig.qzv\u001b[0m\n",
      "\u001b[0m"
     ]
    }
   ],
   "source": [
    "for x in ['ellen_mac', 'gadget_kirk', 'asami_beryl', 'johnny_rene',\n",
    "       'martina_abel', 'reba_chrome', 'tammy_bane', 'kenny_toph']:\n",
    "    !qiime diversity beta-group-significance \\\n",
    "    --i-distance-matrix ../data/Microbiome/pool_filtered_pergenome/RPCA/individual_marmosets/{x}_RPCA_dm.qza \\\n",
    "    --m-metadata-file ../data/Microbiome/14577_fixed.txt \\\n",
    "    --m-metadata-column Pre_Post \\ #does not include Transition timepoint\n",
    "    --p-method permanova \\\n",
    "    --o-visualization ../data/Microbiome/pool_filtered_pergenome/RPCA/individual_marmosets/{x}_RPCA_prepost_bsig.qzv"
   ]
  },
  {
   "cell_type": "markdown",
   "id": "3f538e09",
   "metadata": {},
   "source": [
    "# Merge per-gene, enzyme, KO, and Kegg pathway tables"
   ]
  },
  {
   "cell_type": "code",
   "execution_count": 120,
   "id": "86836767",
   "metadata": {},
   "outputs": [
    {
     "name": "stdout",
     "output_type": "stream",
     "text": [
      "\u001b[32mSaved FeatureTable[Frequency] to: ../data/Microbiome/combined_other_feature_table.qza\u001b[0m\n",
      "\u001b[0m"
     ]
    }
   ],
   "source": [
    "!qiime feature-table merge \\\n",
    "    --i-tables ../data/Microbiome/174072_Kegg_pathway_feature-table.qza ../data/Microbiome/174073_KO_feature-table.qza ../data/Microbiome/174075_per_gene_feature-table.qza ../data/Microbiome/174076_Kegg_enzyme_feature-table.qza \\\n",
    "    --p-overlap-method 'error_on_overlapping_feature' \\\n",
    "    --o-merged-table ../data/Microbiome/combined_other_feature_table.qza"
   ]
  },
  {
   "cell_type": "code",
   "execution_count": 121,
   "id": "ba32ef9e",
   "metadata": {},
   "outputs": [
    {
     "name": "stdout",
     "output_type": "stream",
     "text": [
      "\u001b[32mSaved FeatureTable[Frequency] to: ../data/Microbiome/pool_filtered_other/poolfilt_other_ft.qza\u001b[0m\r\n",
      "\u001b[0m"
     ]
    }
   ],
   "source": [
    "!qiime feature-table filter-samples \\\n",
    "    --i-table ../data/Microbiome/combined_other_feature_table.qza \\\n",
    "    --m-metadata-file ../data/Microbiome/14577_fixed.txt \\\n",
    "    --p-where \"[tube_id] IN ('363243300', 'BLANK.Marmoset.4.12H', 'BLANK.Marmoset.4.11B', 'BLANK.Marmoset.4.5D', 'BLANK.Marmoset.4.11G', 'BLANK.Marmoset.4.2G', 'BLANK.Marmoset.4.9D', '363243287', 'BLANK.Marmoset.4.5F', '363243250', '363243251', '363243251', '363243226', '363243226', 'BLANK.Marmoset.4.9F', 'BLANK.Marmoset.4.4E')\" \\\n",
    "    --p-exclude-ids True \\\n",
    "    --o-filtered-table ../data/Microbiome/pool_filtered_other/poolfilt_other_ft.qza"
   ]
  },
  {
   "cell_type": "code",
   "execution_count": 123,
   "id": "c1fd5603",
   "metadata": {},
   "outputs": [
    {
     "name": "stdout",
     "output_type": "stream",
     "text": [
      "\u001b[32mSaved FeatureTable[Frequency] to: ../data/Microbiome/pool_filtered_other/gemelli_filtered_otherft.qza\u001b[0m\r\n",
      "\u001b[0m"
     ]
    }
   ],
   "source": [
    "!qiime feature-table filter-features \\\n",
    "    --i-table ../data/Microbiome/pool_filtered_other/poolfilt_other_ft.qza \\\n",
    "    --p-min-samples 41 \\\n",
    "    --o-filtered-table ../data/Microbiome/pool_filtered_other/gemelli_filtered_otherft.qza"
   ]
  },
  {
   "cell_type": "code",
   "execution_count": null,
   "id": "83fbd3af",
   "metadata": {
    "scrolled": true
   },
   "outputs": [],
   "source": [
    "!qiime gemelli auto-rpca \\\n",
    "    --i-table ../data/Microbiome/pool_filtered_other/gemelli_filtered_otherft.qza \\\n",
    "    --o-biplot ../data/Microbiome/pool_filtered_other/other_RPCA_ord.qza \\\n",
    "    --o-distance-matrix ../data/Microbiome/pool_filtered_other/other_RPCA_dm.qza\n",
    "#crashed computer, too big, ran on Barnacle2"
   ]
  },
  {
   "cell_type": "code",
   "execution_count": null,
   "id": "1a85586f",
   "metadata": {},
   "outputs": [],
   "source": [
    "!qiime emperor biplot \\\n",
    "    --i-biplot ../data/Microbiome/pool_filtered_other/other_RPCA_ord.qza \\\n",
    "    --m-sample-metadata-file ../data/Microbiome/14577_fixed.txt \\\n",
    "    --p-number-of-features 20 \\\n",
    "    --o-visualization ../data/Microbiome/pool_filtered_other/other_RPCA_biplot.qzv"
   ]
  },
  {
   "cell_type": "code",
   "execution_count": null,
   "id": "a532478f",
   "metadata": {},
   "outputs": [],
   "source": [
    "!qiime diversity beta-group-significance \\\n",
    "    --i-distance-matrix ../data/Microbiome/pool_filtered_other/other_RPCA_dm.qza \\\n",
    "    --m-metadata-file ../data/Microbiome/14577_fixed.txt \\\n",
    "    --m-metadata-column Pre_Post \\\n",
    "    --p-method permanova \\\n",
    "    --o-visualization ../data/Microbiome/pool_filtered_other/other_RPCA_prepost_significance.qzv"
   ]
  },
  {
   "cell_type": "code",
   "execution_count": null,
   "id": "76701bb3",
   "metadata": {},
   "outputs": [],
   "source": [
    "!qiime diversity beta-group-significance \\\n",
    "    --i-distance-matrix ../data/Microbiome/pool_filtered/RPCA/RPCA_distance.qza \\\n",
    "    --m-metadata-file ../data/Microbiome/14577_fixed.txt \\\n",
    "    --m-metadata-column source \\\n",
    "    --p-method permanova \\\n",
    "    --o-visualization ../data/Microbiome/pool_filtered_other/other_RPCA_source_significance.qzv"
   ]
  },
  {
   "cell_type": "code",
   "execution_count": null,
   "id": "426137e8",
   "metadata": {},
   "outputs": [],
   "source": [
    "!qiime qurro loading-plot \\\n",
    "    --i-ranks ../data/Microbiome/pool_filtered_other/other_RPCA_ord.qza \\\n",
    "    --i-table ../data/Microbiome/pool_filtered_other/gemelli_filtered_otherft.qza \\\n",
    "    --m-sample-metadata-file ../data/Microbiome/14577_fixed.txt \\\n",
    "    --o-visualization ../data/Microbiome/pool_filtered_other/other_RPCA_qurro_plot.qzv"
   ]
  },
  {
   "cell_type": "markdown",
   "id": "a09ebe10",
   "metadata": {},
   "source": [
    "### Individual non-genome type feature table files"
   ]
  },
  {
   "cell_type": "code",
   "execution_count": 4,
   "id": "9c3bc007",
   "metadata": {},
   "outputs": [
    {
     "name": "stdout",
     "output_type": "stream",
     "text": [
      "\u001b[32mSaved FeatureTable[Frequency] to: ../data/Microbiome/poolfilt_per_gene_feature-table.qza\u001b[0m\r\n",
      "\u001b[0m"
     ]
    }
   ],
   "source": [
    "!qiime feature-table filter-samples \\\n",
    "    --i-table ../data/Microbiome/174075_per_gene_feature-table.qza \\\n",
    "    --m-metadata-file ../data/Microbiome/14577_fixed.txt \\\n",
    "    --p-where \"[tube_id] IN ('363243300', 'BLANK.Marmoset.4.12H', 'BLANK.Marmoset.4.11B', 'BLANK.Marmoset.4.5D', 'BLANK.Marmoset.4.11G', 'BLANK.Marmoset.4.2G', 'BLANK.Marmoset.4.9D', '363243287', 'BLANK.Marmoset.4.5F', '363243250', '363243251', '363243251', '363243226', '363243226', 'BLANK.Marmoset.4.9F', 'BLANK.Marmoset.4.4E')\" \\\n",
    "    --p-exclude-ids True \\\n",
    "    --o-filtered-table ../data/Microbiome/poolfilt_per_gene_feature-table.qza"
   ]
  },
  {
   "cell_type": "code",
   "execution_count": 5,
   "id": "8fadc986",
   "metadata": {},
   "outputs": [
    {
     "name": "stdout",
     "output_type": "stream",
     "text": [
      "\u001b[32mSaved FeatureTable[Frequency] to: ../data/Microbiome/poolfilt_KO_feature-table.qza\u001b[0m\r\n",
      "\u001b[0m"
     ]
    }
   ],
   "source": [
    "!qiime feature-table filter-samples \\\n",
    "    --i-table ../data/Microbiome/174073_KO_feature-table.qza \\\n",
    "    --m-metadata-file ../data/Microbiome/14577_fixed.txt \\\n",
    "    --p-where \"[tube_id] IN ('363243300', 'BLANK.Marmoset.4.12H', 'BLANK.Marmoset.4.11B', 'BLANK.Marmoset.4.5D', 'BLANK.Marmoset.4.11G', 'BLANK.Marmoset.4.2G', 'BLANK.Marmoset.4.9D', '363243287', 'BLANK.Marmoset.4.5F', '363243250', '363243251', '363243251', '363243226', '363243226', 'BLANK.Marmoset.4.9F', 'BLANK.Marmoset.4.4E')\" \\\n",
    "    --p-exclude-ids True \\\n",
    "    --o-filtered-table ../data/Microbiome/poolfilt_KO_feature-table.qza"
   ]
  },
  {
   "cell_type": "code",
   "execution_count": 6,
   "id": "a19be856",
   "metadata": {},
   "outputs": [
    {
     "name": "stdout",
     "output_type": "stream",
     "text": [
      "\u001b[32mSaved FeatureTable[Frequency] to: ../data/Microbiome/poolfilt_Kegg_pathway_feature-table.qza\u001b[0m\n",
      "\u001b[0m"
     ]
    }
   ],
   "source": [
    "!qiime feature-table filter-samples \\\n",
    "    --i-table ../data/Microbiome/174072_Kegg_pathway_feature-table.qza \\\n",
    "    --m-metadata-file ../data/Microbiome/14577_fixed.txt \\\n",
    "    --p-where \"[tube_id] IN ('363243300', 'BLANK.Marmoset.4.12H', 'BLANK.Marmoset.4.11B', 'BLANK.Marmoset.4.5D', 'BLANK.Marmoset.4.11G', 'BLANK.Marmoset.4.2G', 'BLANK.Marmoset.4.9D', '363243287', 'BLANK.Marmoset.4.5F', '363243250', '363243251', '363243251', '363243226', '363243226', 'BLANK.Marmoset.4.9F', 'BLANK.Marmoset.4.4E')\" \\\n",
    "    --p-exclude-ids True \\\n",
    "    --o-filtered-table ../data/Microbiome/poolfilt_Kegg_pathway_feature-table.qza"
   ]
  },
  {
   "cell_type": "code",
   "execution_count": 7,
   "id": "c1d985db",
   "metadata": {},
   "outputs": [
    {
     "name": "stdout",
     "output_type": "stream",
     "text": [
      "\u001b[32mSaved FeatureTable[Frequency] to: ../data/Microbiome/poolfilt_Kegg_enzyme_feature-table.qza\u001b[0m\r\n",
      "\u001b[0m"
     ]
    }
   ],
   "source": [
    "!qiime feature-table filter-samples \\\n",
    "    --i-table ../data/Microbiome/174076_Kegg_enzyme_feature-table.qza \\\n",
    "    --m-metadata-file ../data/Microbiome/14577_fixed.txt \\\n",
    "    --p-where \"[tube_id] IN ('363243300', 'BLANK.Marmoset.4.12H', 'BLANK.Marmoset.4.11B', 'BLANK.Marmoset.4.5D', 'BLANK.Marmoset.4.11G', 'BLANK.Marmoset.4.2G', 'BLANK.Marmoset.4.9D', '363243287', 'BLANK.Marmoset.4.5F', '363243250', '363243251', '363243251', '363243226', '363243226', 'BLANK.Marmoset.4.9F', 'BLANK.Marmoset.4.4E')\" \\\n",
    "    --p-exclude-ids True \\\n",
    "    --o-filtered-table ../data/Microbiome/poolfilt_Kegg_enzyme_feature-table.qza"
   ]
  },
  {
   "cell_type": "code",
   "execution_count": 8,
   "id": "7da28b91",
   "metadata": {},
   "outputs": [
    {
     "name": "stdout",
     "output_type": "stream",
     "text": [
      "\u001b[32mSaved FeatureTable[Frequency] to: ../data/Microbiome/gemelli_filtered_per_gene_ft.qza\u001b[0m\r\n",
      "\u001b[0m"
     ]
    }
   ],
   "source": [
    "!qiime feature-table filter-features \\\n",
    "    --i-table ../data/Microbiome/poolfilt_per_gene_feature-table.qza \\\n",
    "    --p-min-samples 41 \\\n",
    "    --o-filtered-table ../data/Microbiome/gemelli_filtered_per_gene_ft.qza"
   ]
  },
  {
   "cell_type": "code",
   "execution_count": 9,
   "id": "cf6b4534",
   "metadata": {},
   "outputs": [
    {
     "name": "stdout",
     "output_type": "stream",
     "text": [
      "\u001b[32mSaved FeatureTable[Frequency] to: ../data/Microbiome/gemelli_filt_KO_ft.qza\u001b[0m\r\n",
      "\u001b[0m"
     ]
    }
   ],
   "source": [
    "!qiime feature-table filter-features \\\n",
    "    --i-table ../data/Microbiome/poolfilt_KO_feature-table.qza \\\n",
    "    --p-min-samples 41 \\\n",
    "    --o-filtered-table ../data/Microbiome/gemelli_filt_KO_ft.qza"
   ]
  },
  {
   "cell_type": "code",
   "execution_count": 10,
   "id": "f361c6be",
   "metadata": {},
   "outputs": [
    {
     "name": "stdout",
     "output_type": "stream",
     "text": [
      "\u001b[32mSaved FeatureTable[Frequency] to: ../data/Microbiome/gemelli_filt_Kegg_pathway_ft.qza\u001b[0m\r\n",
      "\u001b[0m"
     ]
    }
   ],
   "source": [
    "!qiime feature-table filter-features \\\n",
    "    --i-table ../data/Microbiome/poolfilt_Kegg_pathway_feature-table.qza \\\n",
    "    --p-min-samples 41 \\\n",
    "    --o-filtered-table ../data/Microbiome/gemelli_filt_Kegg_pathway_ft.qza"
   ]
  },
  {
   "cell_type": "code",
   "execution_count": 11,
   "id": "2652b498",
   "metadata": {},
   "outputs": [
    {
     "name": "stdout",
     "output_type": "stream",
     "text": [
      "\u001b[32mSaved FeatureTable[Frequency] to: ../data/Microbiome/gemelli_filt_Kegg_enzyme_ft.qza\u001b[0m\r\n",
      "\u001b[0m"
     ]
    }
   ],
   "source": [
    "!qiime feature-table filter-features \\\n",
    "    --i-table ../data/Microbiome/poolfilt_Kegg_enzyme_feature-table.qza \\\n",
    "    --p-min-samples 41 \\\n",
    "    --o-filtered-table ../data/Microbiome/gemelli_filt_Kegg_enzyme_ft.qza"
   ]
  },
  {
   "cell_type": "code",
   "execution_count": null,
   "id": "e6ebc6d4",
   "metadata": {},
   "outputs": [],
   "source": []
  }
 ],
 "metadata": {
  "kernelspec": {
   "display_name": "Python 3 (ipykernel)",
   "language": "python",
   "name": "python3"
  },
  "language_info": {
   "codemirror_mode": {
    "name": "ipython",
    "version": 3
   },
   "file_extension": ".py",
   "mimetype": "text/x-python",
   "name": "python",
   "nbconvert_exporter": "python",
   "pygments_lexer": "ipython3",
   "version": "3.8.16"
  }
 },
 "nbformat": 4,
 "nbformat_minor": 5
}
